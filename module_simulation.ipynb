{
 "cells": [
  {
   "cell_type": "code",
   "execution_count": 12,
   "metadata": {},
   "outputs": [
    {
     "data": {
      "text/plain": [
       "26"
      ]
     },
     "execution_count": 12,
     "metadata": {},
     "output_type": "execute_result"
    }
   ],
   "source": [
    "pos = [[529.463, 1451.327, 0.0],[528.914, 1448.883, 0.0],[528.584, 1446.531, 0.0],[528.373, 1444.397, 0.0],\n",
    "[528.203, 1442.345, 0.0],[528.02, 1440.404, 0.0],[527.789, 1438.422, 0.0],[527.488, 1436.269, 0.0],\n",
    "[527.199, 1434.545, 0.0],[526.762, 1432.307, 0.0],[526.215, 1429.71, 0.0],[525.571, 1426.86, 0.0],\n",
    "[524.882, 1423.943, 0.0],[524.252, 1421.374, 0.0],[523.523, 1418.496, 0.0],[522.76, 1415.637, 0.0],\n",
    "[521.924, 1412.662, 0.0],[521.014, 1409.632, 0.0],[520.05, 1406.625, 0.0],[518.988, 1403.481, 0.0],\n",
    "[518.03, 1400.815, 0.0],[517.126, 1398.436, 0.0],[516.281, 1396.244, 0.0],[515.491, 1394.28, 0.0],\n",
    "[514.777, 1392.526, 0.0],[514.145, 1391.009, 0.0]]\n",
    "len(pos)"
   ]
  },
  {
   "cell_type": "code",
   "execution_count": 26,
   "metadata": {},
   "outputs": [],
   "source": [
    "import numpy as np\n",
    "import matplotlib.pyplot as plt\n",
    "import matplotlib.animation as animation\n",
    "%matplotlib qt\n",
    "\n",
    "k = 2*np.pi\n",
    "w = 2*np.pi\n",
    "dt = 0.01\n",
    "\n",
    "xmin = 0\n",
    "xmax = 3\n",
    "nbx = 100\n",
    "\n",
    "x = np.linspace(xmin, xmax, nbx)\n",
    "\n",
    "fig = plt.figure() # initialise la figure\n",
    "line, = plt.plot([],[]) \n",
    "#plt.xlim(xmin, xmax)\n",
    "#plt.ylim(-1,1)\n",
    "\n",
    "# fonction à définir quand blit=True\n",
    "# crée l'arrière de l'animation qui sera présent sur chaque image\n",
    "def init():\n",
    "    line.set_data([],[])\n",
    "    return line,\n",
    "\n",
    "def animate(i): \n",
    "    #print(i)\n",
    "    t = i * dt\n",
    "    y = np.cos(k*x - w*t)\n",
    "    line.set_data(x, y)\n",
    "    return line,\n",
    " \n",
    "ani = animation.FuncAnimation(fig, animate, init_func=init, frames=100, blit=True, interval=20, repeat=False)\n",
    "\n",
    "plt.show()"
   ]
  },
  {
   "cell_type": "code",
   "execution_count": 2,
   "metadata": {},
   "outputs": [],
   "source": [
    "import numpy as np\n",
    "import matplotlib.pyplot as plt\n",
    "import matplotlib.animation as animation\n",
    "%matplotlib qt\n",
    "\n",
    "k = 2*np.pi\n",
    "w = 2*np.pi\n",
    "dt = 0.01\n",
    "\n",
    "xmin = 0\n",
    "xmax = 3\n",
    "nbx = 100\n",
    "\n",
    "x = np.linspace(xmin, xmax, nbx)\n",
    "\n",
    "fig = plt.figure() # initialise la figure\n",
    "line, = plt.plot([],[]) \n",
    "plt.xlim(xmin, xmax)\n",
    "plt.ylim(-1,1)\n",
    "\n",
    "# fonction à définir quand blit=True\n",
    "# crée l'arrière de l'animation qui sera présent sur chaque image\n",
    "def init():\n",
    "    line.set_data([],[])\n",
    "    return line,\n",
    "\n",
    "def animate(i): \n",
    "    t = i * dt\n",
    "    y = np.cos(k*x - w*t)\n",
    "    line.set_data(x, y)\n",
    "    return line,\n",
    " \n",
    "ani = animation.FuncAnimation(fig, animate, init_func=init, frames=100, blit=True, interval=20, repeat=False)\n",
    "\n",
    "plt.show()"
   ]
  },
  {
   "cell_type": "code",
   "execution_count": 24,
   "metadata": {},
   "outputs": [],
   "source": [
    "import numpy as np\n",
    "import matplotlib.pyplot as plt\n",
    "import matplotlib.animation as animation\n",
    "%matplotlib qt\n",
    "TWOPI = 2*np.pi\n",
    "\n",
    "fig, ax = plt.subplots()\n",
    "plt.xlim(0, 2000)\n",
    "plt.ylim(0,2000)\n",
    "t = np.arange(0.0, TWOPI, 0.001)\n",
    "s = np.sin(t)\n",
    "#l = plt.plot(t, s)\n",
    "\n",
    "#ax = plt.axis([0,TWOPI,-1,1])\n",
    "\n",
    "redDot, = plt.plot([0], [np.sin(0)], 'ro')\n",
    "\n",
    "def animate(i):\n",
    "    redDot.set_data([pos[i][0],10], [pos[i][1],10])\n",
    "    return redDot,\n",
    "\n",
    "# create animation using the animate() function\n",
    "myAnimation = animation.FuncAnimation(fig, animate, frames=26, \n",
    "                                      interval=100, blit=True, repeat=True)\n",
    "\n",
    "plt.show()"
   ]
  },
  {
   "cell_type": "code",
   "execution_count": 23,
   "metadata": {},
   "outputs": [],
   "source": [
    "import matplotlib.pyplot as plt\n",
    "import matplotlib.animation as animation\n",
    "import numpy as np\n",
    "\n",
    "fig, ax1 = plt.subplots(1,1)\n",
    "\n",
    "def animate(i,argu):\n",
    "    #print(i, argu)\n",
    "\n",
    "    #graph_data = open('example.txt','r').read()\n",
    "    graph_data = \"1, 1 \\n 2, 4 \\n 3, 9 \\n 4, 16 \\n\"\n",
    "    lines = graph_data.split('\\n')\n",
    "    xs = []\n",
    "    ys = []\n",
    "    for line in lines:\n",
    "        if len(line) > 1:\n",
    "            x, y = line.split(',')\n",
    "            xs.append(float(x))\n",
    "            ys.append(float(y)+np.sin(2.*np.pi*i/10))\n",
    "        ax1.clear()\n",
    "        ax1.plot(xs, ys)\n",
    "        plt.grid()\n",
    "\n",
    "ani = animation.FuncAnimation(fig, animate, fargs=[5],interval = 100)\n",
    "plt.show()"
   ]
  }
 ],
 "metadata": {
  "kernelspec": {
   "display_name": "Python 3",
   "language": "python",
   "name": "python3"
  },
  "language_info": {
   "codemirror_mode": {
    "name": "ipython",
    "version": 3
   },
   "file_extension": ".py",
   "mimetype": "text/x-python",
   "name": "python",
   "nbconvert_exporter": "python",
   "pygments_lexer": "ipython3",
   "version": "3.8.3"
  }
 },
 "nbformat": 4,
 "nbformat_minor": 4
}
