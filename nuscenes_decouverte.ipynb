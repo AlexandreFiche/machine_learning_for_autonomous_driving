{
 "cells": [
  {
   "cell_type": "markdown",
   "metadata": {},
   "source": [
    "# Manipulation des données de nuscenes avec panda"
   ]
  },
  {
   "cell_type": "code",
   "execution_count": 1,
   "metadata": {
    "scrolled": true
   },
   "outputs": [
    {
     "name": "stderr",
     "output_type": "stream",
     "text": [
      "\n",
      "Bad key \"text.kerning_factor\" on line 4 in\n",
      "C:\\Users\\Alexandre\\anaconda3\\envs\\nu\\lib\\site-packages\\matplotlib\\mpl-data\\stylelib\\_classic_test_patch.mplstyle.\n",
      "You probably need to get an updated matplotlibrc file from\n",
      "https://github.com/matplotlib/matplotlib/blob/v3.1.3/matplotlibrc.template\n",
      "or from the matplotlib source distribution\n"
     ]
    },
    {
     "name": "stdout",
     "output_type": "stream",
     "text": [
      "======\n",
      "Loading NuScenes tables for version v1.0-mini...\n",
      "23 category,\n",
      "8 attribute,\n",
      "4 visibility,\n",
      "911 instance,\n",
      "12 sensor,\n",
      "120 calibrated_sensor,\n",
      "31206 ego_pose,\n",
      "8 log,\n",
      "10 scene,\n",
      "404 sample,\n",
      "31206 sample_data,\n",
      "18538 sample_annotation,\n",
      "4 map,\n",
      "Done loading in 0.7 seconds.\n",
      "======\n",
      "Reverse indexing ...\n",
      "Done reverse indexing in 0.1 seconds.\n",
      "======\n"
     ]
    }
   ],
   "source": [
    "%matplotlib inline\n",
    "\n",
    "from nuscenes.nuscenes import NuScenes\n",
    "from nuscenes.can_bus.can_bus_api import NuScenesCanBus\n",
    "\n",
    "import pandas as pd\n",
    "import numpy as np\n",
    "import matplotlib.pyplot as plt\n",
    "\n",
    "# data/sets/nuscenes\n",
    "# D:\\Utilisateurs\\Alexandre\\Repertoire_D\\nuscenes\\v1 0-trainval01\n",
    "\n",
    "nusc = NuScenes(version='v1.0-mini', dataroot='data/sets/nuscenes')\n",
    "nusc_can = NuScenesCanBus(dataroot='data/sets/nuscenes')\n",
    "\n",
    "#nusc2 = NuScenes(version='v1.0-trainval', dataroot='D:/Utilisateurs/Alexandre/Repertoire_D/nuscenes/v1.0-trainval01')"
   ]
  },
  {
   "cell_type": "code",
   "execution_count": 3,
   "metadata": {},
   "outputs": [
    {
     "name": "stdout",
     "output_type": "stream",
     "text": [
      "scene-0061, Parked truck, construction, intersectio... [18-07-24 03:28:47]   19s, singapore-onenorth, #anns:4622\n",
      "scene-0103, Many peds right, wait for turning car, ... [18-08-01 19:26:43]   19s, boston-seaport, #anns:2046\n",
      "scene-0655, Parking lot, parked cars, jaywalker, be... [18-08-27 15:51:32]   20s, boston-seaport, #anns:2332\n",
      "scene-0553, Wait at intersection, bicycle, large tr... [18-08-28 20:48:16]   20s, boston-seaport, #anns:1950\n",
      "scene-0757, Arrive at busy intersection, bus, wait ... [18-08-30 19:25:08]   20s, boston-seaport, #anns:592\n",
      "scene-0796, Scooter, peds on sidewalk, bus, cars, t... [18-10-02 02:52:24]   20s, singapore-queensto, #anns:708\n",
      "scene-0916, Parking lot, bicycle rack, parked bicyc... [18-10-08 07:37:13]   20s, singapore-queensto, #anns:2387\n",
      "scene-1077, Night, big street, bus stop, high speed... [18-11-21 11:39:27]   20s, singapore-hollandv, #anns:890\n",
      "scene-1094, Night, after rain, many peds, PMD, ped ... [18-11-21 11:47:27]   19s, singapore-hollandv, #anns:1762\n",
      "scene-1100, Night, peds in sidewalk, peds cross cro... [18-11-21 11:49:47]   19s, singapore-hollandv, #anns:935\n"
     ]
    }
   ],
   "source": [
    "nusc.list_scenes()"
   ]
  },
  {
   "cell_type": "code",
   "execution_count": 4,
   "metadata": {},
   "outputs": [
    {
     "name": "stdout",
     "output_type": "stream",
     "text": [
      "    vehicle_speed  steering  throttle  left_signal  right_signal\n",
      "0           31.44       3.0         0            0             0\n",
      "1           30.73       3.5         0            1             0\n",
      "2           29.45       3.6         0            1             0\n",
      "3           28.09       3.6         0            0             0\n",
      "4           27.07       3.5         0            0             0\n",
      "5           26.25       3.6         0            1             0\n",
      "6           25.35       4.0         0            0             0\n",
      "7           24.51       4.7         0            0             0\n",
      "8           23.58       6.5         0            1             0\n",
      "9           22.69      12.6         0            1             0\n",
      "10          21.89      23.8         0            0             0\n",
      "11          21.20      34.4         0            0             0\n",
      "12          20.25      45.8         0            1             0\n",
      "13          19.34      69.8         0            1             0\n",
      "14          18.33      87.6         0            0             0\n",
      "15          17.47      90.8         0            0             0\n",
      "16          16.58      98.9         0            1             0\n",
      "17          15.71     102.0        48            1             0\n",
      "18          15.55     112.7        79            0             0\n",
      "19          15.92     117.1         0            0             0\n",
      "20          15.79     117.1         0            1             0\n",
      "21          15.39     114.9         0            1             0\n",
      "22          14.86     105.6         0            0             0\n",
      "23          14.07     102.4         0            1             0\n",
      "24          11.41      74.6         0            0             0\n",
      "25          10.63      67.9         0            0             0\n",
      "26           9.88      51.4         0            1             0\n",
      "27           9.23      21.7         0            1             0\n",
      "28           8.77       9.9         0            0             0\n",
      "29           8.49       2.4         0            0             0\n",
      "30           8.21       1.9         0            1             0\n",
      "31           8.21       5.6         0            1             0\n",
      "32           8.29      29.1         0            0             0\n",
      "33           8.30      79.3         0            0             0\n",
      "34           8.39     104.6         0            1             0\n",
      "35           8.25     123.8         0            1             0\n",
      "36           7.50     155.8         0            0             0\n",
      "37           6.12     214.7         0            0             0\n"
     ]
    }
   ],
   "source": [
    "scene_name = 'scene-0061'\n",
    "dic_scene = nusc_can.get_messages(scene_name,'vehicle_monitor')\n",
    "#print(test)\n",
    "features = [\"vehicle_speed\",\"steering\",\"throttle\",\"left_signal\",\"right_signal\"]\n",
    "df_scene = pd.DataFrame.from_dict(dic_scene)[features]\n",
    "\n",
    "print(df_scene)"
   ]
  },
  {
   "cell_type": "code",
   "execution_count": 5,
   "metadata": {},
   "outputs": [],
   "source": [
    "scene_name = 'scene-1100'\n",
    "my_scene_token = nusc.field2token('scene', 'name', scene_name)[0]\n",
    "nusc.render_scene_channel(my_scene_token, 'CAM_FRONT')"
   ]
  },
  {
   "cell_type": "markdown",
   "metadata": {},
   "source": [
    "## Premier test: essayer d'apprendre quand mettre le clignotant \n",
    "Note: juste un essai pour prendre en main le dataset, avec seulement la vitesse et l'inclinaison du volant je ne pense pas qu'il soit possible de prévoir quand mettre un clignotant, il manque certaines informations (trajectoire notamment)"
   ]
  },
  {
   "cell_type": "markdown",
   "metadata": {},
   "source": [
    "### 1/ Prétraitement des données"
   ]
  },
  {
   "cell_type": "code",
   "execution_count": 7,
   "metadata": {},
   "outputs": [
    {
     "name": "stdout",
     "output_type": "stream",
     "text": [
      "['scene-0061', 'scene-0103', 'scene-0553', 'scene-0655', 'scene-0757', 'scene-0796', 'scene-0916', 'scene-1077', 'scene-1094', 'scene-1100']\n"
     ]
    }
   ],
   "source": [
    "all_scene = [ s[\"name\"] for s in nusc.scene]\n",
    "print(all_scene)"
   ]
  },
  {
   "cell_type": "code",
   "execution_count": 8,
   "metadata": {},
   "outputs": [],
   "source": [
    "# Mets des 1 tout le temps pour le clignotant au lieu d'une alternance par défaut\n",
    "def fill_signal(df,signal):\n",
    "    i = 0\n",
    "    index = df.columns.get_loc(signal)\n",
    "    while df[signal][i] != 1:\n",
    "        i += 1\n",
    "    while i  < len(df) and sum(df[signal][i:i+4]) >= 1:\n",
    "        df.iat[i,index] = 1\n",
    "        i += 1\n",
    "    return df"
   ]
  },
  {
   "cell_type": "code",
   "execution_count": 9,
   "metadata": {},
   "outputs": [],
   "source": [
    "#Ajoute une nouvelle colonne où les valeurs sont: 0(rien), 1(clignotant gauche), 2(clignotant droit)\n",
    "#Plus pratique \"fill_signal\" car on aura une seul colonne Y pour l'apprentissage\n",
    "def add_signal_column(df,signal):\n",
    "    i = 0\n",
    "    tab = []\n",
    "    while df[signal][i] != 1:\n",
    "        tab += [0]\n",
    "        i += 1\n",
    "    while i  < len(df) and sum(df[signal][i:i+4]) >= 1:\n",
    "        if signal == \"right_signal\":\n",
    "            tab += [2]\n",
    "        else:\n",
    "            tab += [1]\n",
    "        i += 1\n",
    "    while i < len(df):\n",
    "        tab += [0]\n",
    "        i += 1\n",
    "    df[\"signal\"] = tab\n",
    "    return df"
   ]
  },
  {
   "cell_type": "code",
   "execution_count": 10,
   "metadata": {},
   "outputs": [
    {
     "name": "stdout",
     "output_type": "stream",
     "text": [
      "['scene-0161', 'scene-0162', 'scene-0163', 'scene-0164', 'scene-0165', 'scene-0166', 'scene-0167', 'scene-0168', 'scene-0170', 'scene-0171', 'scene-0172', 'scene-0173', 'scene-0174', 'scene-0175', 'scene-0176', 'scene-0309', 'scene-0310', 'scene-0311', 'scene-0312', 'scene-0313', 'scene-0314']\n",
      "False\n"
     ]
    }
   ],
   "source": [
    "blackint = nusc_can.can_blacklist\n",
    "blacklist = [ \"scene-0\"+ str(i) for i in blackint]\n",
    "print(blacklist)\n",
    "print( \"%s\" in all_scene)"
   ]
  },
  {
   "cell_type": "code",
   "execution_count": 11,
   "metadata": {},
   "outputs": [
    {
     "name": "stdout",
     "output_type": "stream",
     "text": [
      "    vehicle_speed  steering  throttle  left_signal  right_signal  signal\n",
      "0           31.44       3.0         0            0             0       0\n",
      "1           30.73       3.5         0            1             0       1\n",
      "2           29.45       3.6         0            1             0       1\n",
      "3           28.09       3.6         0            0             0       1\n",
      "4           27.07       3.5         0            0             0       1\n",
      "..            ...       ...       ...          ...           ...     ...\n",
      "35           0.00    -293.9         0            0             0       2\n",
      "36           0.00    -293.9         0            0             0       2\n",
      "37           0.00    -293.9         0            0             1       2\n",
      "38           0.00    -293.9         0            0             1       2\n",
      "39           0.00    -293.9         0            0             0       0\n",
      "\n",
      "[390 rows x 6 columns]\n"
     ]
    }
   ],
   "source": [
    "tab = []\n",
    "for s in all_scene[:300]:\n",
    "    #print(s)\n",
    "    if s not in blacklist:\n",
    "        dic_scene = nusc_can.get_messages(s,'vehicle_monitor')\n",
    "        features = [\"vehicle_speed\",\"steering\",\"throttle\",\"left_signal\",\"right_signal\"]\n",
    "        df_scene = pd.DataFrame.from_dict(dic_scene)[features]\n",
    "        if df_scene[\"left_signal\"].any():\n",
    "            #df_scene = fill_signal(df_scene,\"left_signal\")\n",
    "            new_df = add_signal_column(df_scene,\"left_signal\")\n",
    "            #print(new_df)\n",
    "        if df_scene[\"right_signal\"].any():\n",
    "            #df_scene = fill_signal(df_scene,\"right_signal\")\n",
    "            new_df = add_signal_column(df_scene,\"right_signal\")\n",
    "            #print(new_df)\n",
    "        tab += [new_df]\n",
    "    \n",
    "df_total = pd.concat(tab)\n",
    "print(df_total)"
   ]
  },
  {
   "cell_type": "markdown",
   "metadata": {},
   "source": [
    "### 2/ Apprentissage"
   ]
  },
  {
   "cell_type": "code",
   "execution_count": 12,
   "metadata": {},
   "outputs": [],
   "source": [
    "from sklearn.model_selection import train_test_split\n",
    "from sklearn import svm, neighbors\n",
    "import random"
   ]
  },
  {
   "cell_type": "code",
   "execution_count": 13,
   "metadata": {},
   "outputs": [],
   "source": [
    "features = [\"vehicle_speed\",\"steering\",\"throttle\"]\n",
    "X = df_total[features]\n",
    "y = df_total[\"signal\"]\n",
    "X_train, X_test, y_train, y_test = train_test_split(X,y, test_size = 0.2, random_state = 1)"
   ]
  },
  {
   "cell_type": "markdown",
   "metadata": {},
   "source": [
    "#### 2/1/ K plus proches voisins"
   ]
  },
  {
   "cell_type": "code",
   "execution_count": 14,
   "metadata": {},
   "outputs": [
    {
     "data": {
      "text/plain": [
       "0.9615384615384616"
      ]
     },
     "execution_count": 14,
     "metadata": {},
     "output_type": "execute_result"
    }
   ],
   "source": [
    "model = neighbors.KNeighborsClassifier()\n",
    "model.fit(X_train,y_train)\n",
    "model.score(X_test,y_test)\n"
   ]
  },
  {
   "cell_type": "markdown",
   "metadata": {},
   "source": [
    "0.80 avec les 1000 scènes (can bus), c'est pas mal pour un modèle basique, on peut améliorer ça"
   ]
  },
  {
   "cell_type": "markdown",
   "metadata": {},
   "source": [
    "## Deuxième test: anticiper la vitesse avec un véhicule en face"
   ]
  },
  {
   "cell_type": "markdown",
   "metadata": {},
   "source": [
    "Principe de base (idée): \n",
    "    - le système de pilotage envoie les postions gps à suivre, la vitesse et l'angle recommandés à l'algorithme de gestion\n",
    "    - l'algorithme de gestion en fonction de la situation va envoyer sur un modèle pour donner une nouvelle valeur de la vitesse et de l'angle par rapport à l'environnement\n",
    "    - plusieurs modèles, mais en premier un basique : s'il y a personne en face on change rien, sinon calcul de la nouvelle vitesse par rapport au véhicule devant."
   ]
  },
  {
   "cell_type": "markdown",
   "metadata": {},
   "source": [
    "Pour cela, il nous faut plusieurs données pour ce modèle:\n",
    "    - position, vitesse, orientation du véhicule égo (nous) et du véhicule en face\n",
    "    - à compléter?\n",
    "\n"
   ]
  },
  {
   "cell_type": "markdown",
   "metadata": {},
   "source": [
    "### 1/ Recherche de ces données:"
   ]
  }
 ],
 "metadata": {
  "kernelspec": {
   "display_name": "Python 3",
   "language": "python",
   "name": "python3"
  },
  "language_info": {
   "codemirror_mode": {
    "name": "ipython",
    "version": 3
   },
   "file_extension": ".py",
   "mimetype": "text/x-python",
   "name": "python",
   "nbconvert_exporter": "python",
   "pygments_lexer": "ipython3",
   "version": "3.8.3"
  }
 },
 "nbformat": 4,
 "nbformat_minor": 4
}
