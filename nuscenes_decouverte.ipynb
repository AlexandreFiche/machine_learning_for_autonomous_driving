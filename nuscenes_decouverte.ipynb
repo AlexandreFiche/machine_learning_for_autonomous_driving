{
 "cells": [
  {
   "cell_type": "markdown",
   "metadata": {},
   "source": [
    "# Manipulation des données de nuScenes avec panda"
   ]
  },
  {
   "cell_type": "markdown",
   "metadata": {},
   "source": [
    "###  Nuscenes: \n",
    "https://github.com/nutonomy/nuscenes-devkit\n",
    "\n",
    "https://www.nuscenes.org/"
   ]
  },
  {
   "cell_type": "markdown",
   "metadata": {},
   "source": [
    "# Introduction"
   ]
  },
  {
   "cell_type": "markdown",
   "metadata": {},
   "source": [
    "Notebook de présentation et de découverte du jeu de données NuScenes. NuScenes est un jeu de données qui sert au développement de véhicules autonomes. C'est une grande base de données (+400 go) qui contient:\n",
    " - Des informations intrinsèques,informations sur le véhicule, comme la vitesse, l'angle du volant, la pression sur les pédales d'accélération et de frein, .... Ces informations sont accéssible en téléchargeant l'extension CAN Bus en plus du jeu de données de base.\n",
    " - Des informations extrinsèques sur l'envrionnement autour du véhicule, détection de tout les objets présents autour (Voiture, camion, piéton, plot de chantier...) qui possèdent une box et une position comme représentation. Ces informations sont extraites à partir de caméra, radar et lidar présent autour du véhicule. Il s'agit d'informations réelles capturer pendant des sessions dans plusieurs villes.\n",
    " - Un ensemble de carte où se déplace tout ces objets, sur ces cartes on peut parcourir les routes connaitres leur type, connaitre la signalisation (stop, feu), ... Je ne me suis pas occupé de cette partie car elle est assez compliqué et ne m'interresse pas pour le stage."
   ]
  },
  {
   "cell_type": "markdown",
   "metadata": {},
   "source": [
    "Il y a un ensemble de tutoriel déjà fournies par nuScenes à cette adresse (https://github.com/nutonomy/nuscenes-devkit/tree/master/python-sdk/tutorials) basics_tutorial et can_bus_tutorial pour avoir des informations complémentaires."
   ]
  },
  {
   "cell_type": "markdown",
   "metadata": {},
   "source": [
    "Il y a deux versions pour NuScenes, la version normal (+400go) et il existe une version mini (4go) contenant 10 scènes. \n",
    "Il est possilble d'utiliser la version normal sans tout télécharger. Sur le site dans la partie \"Trainval\", on a un zip  metadata de 400 mo et il suffit pour tout faire. Si par contre, on veut visualiser des scènes (caméra et/ou lidar) il faudra télécharger les zip de 30 go correspondants à 100 scènes chacun. J'en ai téléchargé 3 personnellement ce qui me donner un accès à 300 scènes.\n",
    "\n",
    "Attention si vous décidez de charger le jeu complet (qu'importe d'avoir téléchargé le jeu en entier), cela risque de mettre du temps sur une machine pas suffisament puissante (je mets 6/15 min c'est aléatoire sur mon pc portable pour charger i5 et 8go de ram), de plus je conseille d'avoir au moins 16 go pour pouvoir l'utiliser sans avoir trop de ralentissement, avec 8go j'ai eu beaucoup de ralentissement.\n",
    "\n",
    "Mais si vous ne pouvez pas, ce n'est pas grave, car j'ai enregistré les données que j'utilise sous forme de csv pour ce que cela soit plus rapide (pour le prochain notebook)."
   ]
  },
  {
   "cell_type": "markdown",
   "metadata": {},
   "source": [
    "# Import librairies et chargement de NuScenes"
   ]
  },
  {
   "cell_type": "code",
   "execution_count": 2,
   "metadata": {
    "scrolled": true
   },
   "outputs": [
    {
     "name": "stderr",
     "output_type": "stream",
     "text": [
      "\n",
      "Bad key \"text.kerning_factor\" on line 4 in\n",
      "C:\\Users\\Alexandre\\anaconda3\\envs\\nu\\lib\\site-packages\\matplotlib\\mpl-data\\stylelib\\_classic_test_patch.mplstyle.\n",
      "You probably need to get an updated matplotlibrc file from\n",
      "https://github.com/matplotlib/matplotlib/blob/v3.1.3/matplotlibrc.template\n",
      "or from the matplotlib source distribution\n"
     ]
    }
   ],
   "source": [
    "%matplotlib inline\n",
    "\n",
    "from nuscenes.nuscenes import NuScenes\n",
    "from nuscenes.can_bus.can_bus_api import NuScenesCanBus\n",
    "import pandas as pd\n",
    "import numpy as np\n",
    "import matplotlib.pyplot as plt"
   ]
  },
  {
   "cell_type": "code",
   "execution_count": 3,
   "metadata": {},
   "outputs": [
    {
     "name": "stdout",
     "output_type": "stream",
     "text": [
      "======\n",
      "Loading NuScenes tables for version v1.0-trainval...\n",
      "23 category,\n",
      "8 attribute,\n",
      "4 visibility,\n",
      "64386 instance,\n",
      "12 sensor,\n",
      "10200 calibrated_sensor,\n",
      "2631083 ego_pose,\n",
      "68 log,\n",
      "850 scene,\n",
      "34149 sample,\n",
      "2631083 sample_data,\n",
      "1166187 sample_annotation,\n",
      "4 map,\n",
      "Done loading in 49.7 seconds.\n",
      "======\n",
      "Reverse indexing ...\n",
      "Done reverse indexing in 8.7 seconds.\n",
      "======\n"
     ]
    }
   ],
   "source": [
    "#nusc = NuScenes(version='v1.0-mini', dataroot='../data/sets/nuscenes')\n",
    "#nusc = NuScenes(version='v1.0-mini', dataroot='G:/repertoire_g/data/sets/nuscenes')\n",
    "#nusc_can = NuScenesCanBus(dataroot='G:/repertoire_g/data/sets/nuscenes')\n",
    "\n",
    "# Trainval ou mini suivant la version que l'on souhaite utiliser\n",
    "nusc = NuScenes(version='v1.0-trainval', dataroot='D:/Utilisateurs/Alexandre/Repertoire_D/nuscenes/v1.0-trainval01')\n",
    "nusc_can = NuScenesCanBus(dataroot='../data/sets/nuscenes')"
   ]
  },
  {
   "cell_type": "markdown",
   "metadata": {},
   "source": [
    "# Prise en main de l'extension CAN "
   ]
  },
  {
   "cell_type": "markdown",
   "metadata": {},
   "source": [
    "Tout d'abord, faisons  un rendu de la scène. `field2token` renvoie le token associé au nom de la scène, plus généralement, elle renvoie une liste de token de la classe en premier paramètre, dont un des attributs (second paramètre) a pour valeur le dernier paramètre, elle est très pratique."
   ]
  },
  {
   "cell_type": "code",
   "execution_count": 5,
   "metadata": {},
   "outputs": [],
   "source": [
    "scene_name = 'scene-0061'\n",
    "my_scene_token = nusc.field2token('scene', 'name', scene_name)[0]\n",
    "nusc.render_scene_channel(my_scene_token, 'CAM_FRONT')"
   ]
  },
  {
   "cell_type": "code",
   "execution_count": 6,
   "metadata": {},
   "outputs": [],
   "source": [
    "# Decommenter si vous utilisez la version mini\n",
    "#nusc.list_scenes()["
   ]
  },
  {
   "cell_type": "markdown",
   "metadata": {},
   "source": [
    "On prends la scène 61 et je récupère les informations suivantes (vitesse, angle du volant...) à partir de l'extension CAN et je les mets dans un dataframe.\n",
    "`get_messages` renvoie une liste de dictionnaire contenant pour chaque enregistrement (toutes les demi-secondes de la scène) les informations internes du véhicule à partir du nom de scène donnée."
   ]
  },
  {
   "cell_type": "code",
   "execution_count": 6,
   "metadata": {},
   "outputs": [
    {
     "data": {
      "text/plain": [
       "{'available_distance': 120,\n",
       " 'battery_level': 91,\n",
       " 'brake': 0,\n",
       " 'brake_switch': 1,\n",
       " 'gear_position': 7,\n",
       " 'left_signal': 0,\n",
       " 'rear_left_rpm': 275.2617,\n",
       " 'rear_right_rpm': 276.1791,\n",
       " 'right_signal': 0,\n",
       " 'steering': 3.0,\n",
       " 'steering_speed': 1.8118839761882555e-13,\n",
       " 'throttle': 0,\n",
       " 'utime': 1532402928127800,\n",
       " 'vehicle_speed': 31.44,\n",
       " 'yaw_rate': 0.6000000000000227}"
      ]
     },
     "execution_count": 6,
     "metadata": {},
     "output_type": "execute_result"
    }
   ],
   "source": [
    "scene_name = 'scene-0061'\n",
    "dic_scene = nusc_can.get_messages(scene_name,'vehicle_monitor')\n",
    "dic_scene[0]"
   ]
  },
  {
   "cell_type": "code",
   "execution_count": 7,
   "metadata": {},
   "outputs": [
    {
     "data": {
      "text/html": [
       "<div>\n",
       "<style scoped>\n",
       "    .dataframe tbody tr th:only-of-type {\n",
       "        vertical-align: middle;\n",
       "    }\n",
       "\n",
       "    .dataframe tbody tr th {\n",
       "        vertical-align: top;\n",
       "    }\n",
       "\n",
       "    .dataframe thead th {\n",
       "        text-align: right;\n",
       "    }\n",
       "</style>\n",
       "<table border=\"1\" class=\"dataframe\">\n",
       "  <thead>\n",
       "    <tr style=\"text-align: right;\">\n",
       "      <th></th>\n",
       "      <th>vehicle_speed</th>\n",
       "      <th>steering</th>\n",
       "      <th>throttle</th>\n",
       "      <th>left_signal</th>\n",
       "      <th>right_signal</th>\n",
       "    </tr>\n",
       "  </thead>\n",
       "  <tbody>\n",
       "    <tr>\n",
       "      <th>0</th>\n",
       "      <td>31.44</td>\n",
       "      <td>3.0</td>\n",
       "      <td>0</td>\n",
       "      <td>0</td>\n",
       "      <td>0</td>\n",
       "    </tr>\n",
       "    <tr>\n",
       "      <th>1</th>\n",
       "      <td>30.73</td>\n",
       "      <td>3.5</td>\n",
       "      <td>0</td>\n",
       "      <td>1</td>\n",
       "      <td>0</td>\n",
       "    </tr>\n",
       "    <tr>\n",
       "      <th>2</th>\n",
       "      <td>29.45</td>\n",
       "      <td>3.6</td>\n",
       "      <td>0</td>\n",
       "      <td>1</td>\n",
       "      <td>0</td>\n",
       "    </tr>\n",
       "    <tr>\n",
       "      <th>3</th>\n",
       "      <td>28.09</td>\n",
       "      <td>3.6</td>\n",
       "      <td>0</td>\n",
       "      <td>0</td>\n",
       "      <td>0</td>\n",
       "    </tr>\n",
       "    <tr>\n",
       "      <th>4</th>\n",
       "      <td>27.07</td>\n",
       "      <td>3.5</td>\n",
       "      <td>0</td>\n",
       "      <td>0</td>\n",
       "      <td>0</td>\n",
       "    </tr>\n",
       "    <tr>\n",
       "      <th>5</th>\n",
       "      <td>26.25</td>\n",
       "      <td>3.6</td>\n",
       "      <td>0</td>\n",
       "      <td>1</td>\n",
       "      <td>0</td>\n",
       "    </tr>\n",
       "    <tr>\n",
       "      <th>6</th>\n",
       "      <td>25.35</td>\n",
       "      <td>4.0</td>\n",
       "      <td>0</td>\n",
       "      <td>0</td>\n",
       "      <td>0</td>\n",
       "    </tr>\n",
       "    <tr>\n",
       "      <th>7</th>\n",
       "      <td>24.51</td>\n",
       "      <td>4.7</td>\n",
       "      <td>0</td>\n",
       "      <td>0</td>\n",
       "      <td>0</td>\n",
       "    </tr>\n",
       "    <tr>\n",
       "      <th>8</th>\n",
       "      <td>23.58</td>\n",
       "      <td>6.5</td>\n",
       "      <td>0</td>\n",
       "      <td>1</td>\n",
       "      <td>0</td>\n",
       "    </tr>\n",
       "    <tr>\n",
       "      <th>9</th>\n",
       "      <td>22.69</td>\n",
       "      <td>12.6</td>\n",
       "      <td>0</td>\n",
       "      <td>1</td>\n",
       "      <td>0</td>\n",
       "    </tr>\n",
       "    <tr>\n",
       "      <th>10</th>\n",
       "      <td>21.89</td>\n",
       "      <td>23.8</td>\n",
       "      <td>0</td>\n",
       "      <td>0</td>\n",
       "      <td>0</td>\n",
       "    </tr>\n",
       "    <tr>\n",
       "      <th>11</th>\n",
       "      <td>21.20</td>\n",
       "      <td>34.4</td>\n",
       "      <td>0</td>\n",
       "      <td>0</td>\n",
       "      <td>0</td>\n",
       "    </tr>\n",
       "    <tr>\n",
       "      <th>12</th>\n",
       "      <td>20.25</td>\n",
       "      <td>45.8</td>\n",
       "      <td>0</td>\n",
       "      <td>1</td>\n",
       "      <td>0</td>\n",
       "    </tr>\n",
       "    <tr>\n",
       "      <th>13</th>\n",
       "      <td>19.34</td>\n",
       "      <td>69.8</td>\n",
       "      <td>0</td>\n",
       "      <td>1</td>\n",
       "      <td>0</td>\n",
       "    </tr>\n",
       "    <tr>\n",
       "      <th>14</th>\n",
       "      <td>18.33</td>\n",
       "      <td>87.6</td>\n",
       "      <td>0</td>\n",
       "      <td>0</td>\n",
       "      <td>0</td>\n",
       "    </tr>\n",
       "    <tr>\n",
       "      <th>15</th>\n",
       "      <td>17.47</td>\n",
       "      <td>90.8</td>\n",
       "      <td>0</td>\n",
       "      <td>0</td>\n",
       "      <td>0</td>\n",
       "    </tr>\n",
       "    <tr>\n",
       "      <th>16</th>\n",
       "      <td>16.58</td>\n",
       "      <td>98.9</td>\n",
       "      <td>0</td>\n",
       "      <td>1</td>\n",
       "      <td>0</td>\n",
       "    </tr>\n",
       "    <tr>\n",
       "      <th>17</th>\n",
       "      <td>15.71</td>\n",
       "      <td>102.0</td>\n",
       "      <td>48</td>\n",
       "      <td>1</td>\n",
       "      <td>0</td>\n",
       "    </tr>\n",
       "    <tr>\n",
       "      <th>18</th>\n",
       "      <td>15.55</td>\n",
       "      <td>112.7</td>\n",
       "      <td>79</td>\n",
       "      <td>0</td>\n",
       "      <td>0</td>\n",
       "    </tr>\n",
       "    <tr>\n",
       "      <th>19</th>\n",
       "      <td>15.92</td>\n",
       "      <td>117.1</td>\n",
       "      <td>0</td>\n",
       "      <td>0</td>\n",
       "      <td>0</td>\n",
       "    </tr>\n",
       "    <tr>\n",
       "      <th>20</th>\n",
       "      <td>15.79</td>\n",
       "      <td>117.1</td>\n",
       "      <td>0</td>\n",
       "      <td>1</td>\n",
       "      <td>0</td>\n",
       "    </tr>\n",
       "    <tr>\n",
       "      <th>21</th>\n",
       "      <td>15.39</td>\n",
       "      <td>114.9</td>\n",
       "      <td>0</td>\n",
       "      <td>1</td>\n",
       "      <td>0</td>\n",
       "    </tr>\n",
       "    <tr>\n",
       "      <th>22</th>\n",
       "      <td>14.86</td>\n",
       "      <td>105.6</td>\n",
       "      <td>0</td>\n",
       "      <td>0</td>\n",
       "      <td>0</td>\n",
       "    </tr>\n",
       "    <tr>\n",
       "      <th>23</th>\n",
       "      <td>14.07</td>\n",
       "      <td>102.4</td>\n",
       "      <td>0</td>\n",
       "      <td>1</td>\n",
       "      <td>0</td>\n",
       "    </tr>\n",
       "    <tr>\n",
       "      <th>24</th>\n",
       "      <td>11.41</td>\n",
       "      <td>74.6</td>\n",
       "      <td>0</td>\n",
       "      <td>0</td>\n",
       "      <td>0</td>\n",
       "    </tr>\n",
       "    <tr>\n",
       "      <th>25</th>\n",
       "      <td>10.63</td>\n",
       "      <td>67.9</td>\n",
       "      <td>0</td>\n",
       "      <td>0</td>\n",
       "      <td>0</td>\n",
       "    </tr>\n",
       "    <tr>\n",
       "      <th>26</th>\n",
       "      <td>9.88</td>\n",
       "      <td>51.4</td>\n",
       "      <td>0</td>\n",
       "      <td>1</td>\n",
       "      <td>0</td>\n",
       "    </tr>\n",
       "    <tr>\n",
       "      <th>27</th>\n",
       "      <td>9.23</td>\n",
       "      <td>21.7</td>\n",
       "      <td>0</td>\n",
       "      <td>1</td>\n",
       "      <td>0</td>\n",
       "    </tr>\n",
       "    <tr>\n",
       "      <th>28</th>\n",
       "      <td>8.77</td>\n",
       "      <td>9.9</td>\n",
       "      <td>0</td>\n",
       "      <td>0</td>\n",
       "      <td>0</td>\n",
       "    </tr>\n",
       "    <tr>\n",
       "      <th>29</th>\n",
       "      <td>8.49</td>\n",
       "      <td>2.4</td>\n",
       "      <td>0</td>\n",
       "      <td>0</td>\n",
       "      <td>0</td>\n",
       "    </tr>\n",
       "    <tr>\n",
       "      <th>30</th>\n",
       "      <td>8.21</td>\n",
       "      <td>1.9</td>\n",
       "      <td>0</td>\n",
       "      <td>1</td>\n",
       "      <td>0</td>\n",
       "    </tr>\n",
       "    <tr>\n",
       "      <th>31</th>\n",
       "      <td>8.21</td>\n",
       "      <td>5.6</td>\n",
       "      <td>0</td>\n",
       "      <td>1</td>\n",
       "      <td>0</td>\n",
       "    </tr>\n",
       "    <tr>\n",
       "      <th>32</th>\n",
       "      <td>8.29</td>\n",
       "      <td>29.1</td>\n",
       "      <td>0</td>\n",
       "      <td>0</td>\n",
       "      <td>0</td>\n",
       "    </tr>\n",
       "    <tr>\n",
       "      <th>33</th>\n",
       "      <td>8.30</td>\n",
       "      <td>79.3</td>\n",
       "      <td>0</td>\n",
       "      <td>0</td>\n",
       "      <td>0</td>\n",
       "    </tr>\n",
       "    <tr>\n",
       "      <th>34</th>\n",
       "      <td>8.39</td>\n",
       "      <td>104.6</td>\n",
       "      <td>0</td>\n",
       "      <td>1</td>\n",
       "      <td>0</td>\n",
       "    </tr>\n",
       "    <tr>\n",
       "      <th>35</th>\n",
       "      <td>8.25</td>\n",
       "      <td>123.8</td>\n",
       "      <td>0</td>\n",
       "      <td>1</td>\n",
       "      <td>0</td>\n",
       "    </tr>\n",
       "    <tr>\n",
       "      <th>36</th>\n",
       "      <td>7.50</td>\n",
       "      <td>155.8</td>\n",
       "      <td>0</td>\n",
       "      <td>0</td>\n",
       "      <td>0</td>\n",
       "    </tr>\n",
       "    <tr>\n",
       "      <th>37</th>\n",
       "      <td>6.12</td>\n",
       "      <td>214.7</td>\n",
       "      <td>0</td>\n",
       "      <td>0</td>\n",
       "      <td>0</td>\n",
       "    </tr>\n",
       "  </tbody>\n",
       "</table>\n",
       "</div>"
      ],
      "text/plain": [
       "    vehicle_speed  steering  throttle  left_signal  right_signal\n",
       "0           31.44       3.0         0            0             0\n",
       "1           30.73       3.5         0            1             0\n",
       "2           29.45       3.6         0            1             0\n",
       "3           28.09       3.6         0            0             0\n",
       "4           27.07       3.5         0            0             0\n",
       "5           26.25       3.6         0            1             0\n",
       "6           25.35       4.0         0            0             0\n",
       "7           24.51       4.7         0            0             0\n",
       "8           23.58       6.5         0            1             0\n",
       "9           22.69      12.6         0            1             0\n",
       "10          21.89      23.8         0            0             0\n",
       "11          21.20      34.4         0            0             0\n",
       "12          20.25      45.8         0            1             0\n",
       "13          19.34      69.8         0            1             0\n",
       "14          18.33      87.6         0            0             0\n",
       "15          17.47      90.8         0            0             0\n",
       "16          16.58      98.9         0            1             0\n",
       "17          15.71     102.0        48            1             0\n",
       "18          15.55     112.7        79            0             0\n",
       "19          15.92     117.1         0            0             0\n",
       "20          15.79     117.1         0            1             0\n",
       "21          15.39     114.9         0            1             0\n",
       "22          14.86     105.6         0            0             0\n",
       "23          14.07     102.4         0            1             0\n",
       "24          11.41      74.6         0            0             0\n",
       "25          10.63      67.9         0            0             0\n",
       "26           9.88      51.4         0            1             0\n",
       "27           9.23      21.7         0            1             0\n",
       "28           8.77       9.9         0            0             0\n",
       "29           8.49       2.4         0            0             0\n",
       "30           8.21       1.9         0            1             0\n",
       "31           8.21       5.6         0            1             0\n",
       "32           8.29      29.1         0            0             0\n",
       "33           8.30      79.3         0            0             0\n",
       "34           8.39     104.6         0            1             0\n",
       "35           8.25     123.8         0            1             0\n",
       "36           7.50     155.8         0            0             0\n",
       "37           6.12     214.7         0            0             0"
      ]
     },
     "execution_count": 7,
     "metadata": {},
     "output_type": "execute_result"
    }
   ],
   "source": [
    "features = [\"vehicle_speed\",\"steering\",\"throttle\",\"left_signal\",\"right_signal\"]\n",
    "df_scene = pd.DataFrame.from_dict(dic_scene)[features]\n",
    "df_scene"
   ]
  },
  {
   "cell_type": "markdown",
   "metadata": {},
   "source": [
    "# Essayer d'apprendre quand mettre le clignotant \n",
    "On va maitenant faire un essai pour prendre en main le dataset, avec seulement la vitesse, l'accélération et l'inclinaison du volant. Je ne pense pas qu'il soit possible de prévoir quand mettre un clignotant car il manque certaines informations (trajectoire notamment) mais cela permettra de manipuler NuScenes avant d'attaquer la suite."
   ]
  },
  {
   "cell_type": "markdown",
   "metadata": {},
   "source": [
    "## 1/ Prétraitement des données"
   ]
  },
  {
   "cell_type": "markdown",
   "metadata": {},
   "source": [
    "Pour récupérer la liste des scènes présentes dans le jeu de donnnées, on peut récupérer l'attribut scene de l'instance NuScene.Par contre, si on utilise le mini jeu de données, on aura que 10 scènes."
   ]
  },
  {
   "cell_type": "code",
   "execution_count": 8,
   "metadata": {},
   "outputs": [
    {
     "name": "stdout",
     "output_type": "stream",
     "text": [
      "850\n"
     ]
    }
   ],
   "source": [
    "all_scene = [ s[\"name\"] for s in nusc.scene ]\n",
    "print(len(all_scene))"
   ]
  },
  {
   "cell_type": "markdown",
   "metadata": {},
   "source": []
  },
  {
   "cell_type": "code",
   "execution_count": 9,
   "metadata": {},
   "outputs": [],
   "source": [
    "# Mets des 1 tout le temps pour le clignotant au lieu d'une alternance par défaut\n",
    "def fill_signal(df,signal):\n",
    "    i = 0\n",
    "    index = df.columns.get_loc(signal)\n",
    "    while i < len(df):\n",
    "        while i  < len(df) and df[signal][i] != 1:\n",
    "            i += 1\n",
    "        while i  < len(df) and sum(df[signal][i:i+4]) >= 1:\n",
    "            df.iat[i,index] = 1\n",
    "            i += 1\n",
    "    return df"
   ]
  },
  {
   "cell_type": "code",
   "execution_count": 10,
   "metadata": {},
   "outputs": [
    {
     "data": {
      "text/html": [
       "<div>\n",
       "<style scoped>\n",
       "    .dataframe tbody tr th:only-of-type {\n",
       "        vertical-align: middle;\n",
       "    }\n",
       "\n",
       "    .dataframe tbody tr th {\n",
       "        vertical-align: top;\n",
       "    }\n",
       "\n",
       "    .dataframe thead th {\n",
       "        text-align: right;\n",
       "    }\n",
       "</style>\n",
       "<table border=\"1\" class=\"dataframe\">\n",
       "  <thead>\n",
       "    <tr style=\"text-align: right;\">\n",
       "      <th></th>\n",
       "      <th>vehicle_speed</th>\n",
       "      <th>steering</th>\n",
       "      <th>throttle</th>\n",
       "      <th>left_signal</th>\n",
       "      <th>right_signal</th>\n",
       "    </tr>\n",
       "  </thead>\n",
       "  <tbody>\n",
       "    <tr>\n",
       "      <th>0</th>\n",
       "      <td>31.44</td>\n",
       "      <td>3.0</td>\n",
       "      <td>0</td>\n",
       "      <td>0</td>\n",
       "      <td>0</td>\n",
       "    </tr>\n",
       "    <tr>\n",
       "      <th>1</th>\n",
       "      <td>30.73</td>\n",
       "      <td>3.5</td>\n",
       "      <td>0</td>\n",
       "      <td>1</td>\n",
       "      <td>0</td>\n",
       "    </tr>\n",
       "    <tr>\n",
       "      <th>2</th>\n",
       "      <td>29.45</td>\n",
       "      <td>3.6</td>\n",
       "      <td>0</td>\n",
       "      <td>1</td>\n",
       "      <td>0</td>\n",
       "    </tr>\n",
       "    <tr>\n",
       "      <th>3</th>\n",
       "      <td>28.09</td>\n",
       "      <td>3.6</td>\n",
       "      <td>0</td>\n",
       "      <td>0</td>\n",
       "      <td>0</td>\n",
       "    </tr>\n",
       "    <tr>\n",
       "      <th>4</th>\n",
       "      <td>27.07</td>\n",
       "      <td>3.5</td>\n",
       "      <td>0</td>\n",
       "      <td>0</td>\n",
       "      <td>0</td>\n",
       "    </tr>\n",
       "    <tr>\n",
       "      <th>5</th>\n",
       "      <td>26.25</td>\n",
       "      <td>3.6</td>\n",
       "      <td>0</td>\n",
       "      <td>1</td>\n",
       "      <td>0</td>\n",
       "    </tr>\n",
       "    <tr>\n",
       "      <th>6</th>\n",
       "      <td>25.35</td>\n",
       "      <td>4.0</td>\n",
       "      <td>0</td>\n",
       "      <td>0</td>\n",
       "      <td>0</td>\n",
       "    </tr>\n",
       "    <tr>\n",
       "      <th>7</th>\n",
       "      <td>24.51</td>\n",
       "      <td>4.7</td>\n",
       "      <td>0</td>\n",
       "      <td>0</td>\n",
       "      <td>0</td>\n",
       "    </tr>\n",
       "    <tr>\n",
       "      <th>8</th>\n",
       "      <td>23.58</td>\n",
       "      <td>6.5</td>\n",
       "      <td>0</td>\n",
       "      <td>1</td>\n",
       "      <td>0</td>\n",
       "    </tr>\n",
       "    <tr>\n",
       "      <th>9</th>\n",
       "      <td>22.69</td>\n",
       "      <td>12.6</td>\n",
       "      <td>0</td>\n",
       "      <td>1</td>\n",
       "      <td>0</td>\n",
       "    </tr>\n",
       "    <tr>\n",
       "      <th>10</th>\n",
       "      <td>21.89</td>\n",
       "      <td>23.8</td>\n",
       "      <td>0</td>\n",
       "      <td>0</td>\n",
       "      <td>0</td>\n",
       "    </tr>\n",
       "    <tr>\n",
       "      <th>11</th>\n",
       "      <td>21.20</td>\n",
       "      <td>34.4</td>\n",
       "      <td>0</td>\n",
       "      <td>0</td>\n",
       "      <td>0</td>\n",
       "    </tr>\n",
       "    <tr>\n",
       "      <th>12</th>\n",
       "      <td>20.25</td>\n",
       "      <td>45.8</td>\n",
       "      <td>0</td>\n",
       "      <td>1</td>\n",
       "      <td>0</td>\n",
       "    </tr>\n",
       "    <tr>\n",
       "      <th>13</th>\n",
       "      <td>19.34</td>\n",
       "      <td>69.8</td>\n",
       "      <td>0</td>\n",
       "      <td>1</td>\n",
       "      <td>0</td>\n",
       "    </tr>\n",
       "    <tr>\n",
       "      <th>14</th>\n",
       "      <td>18.33</td>\n",
       "      <td>87.6</td>\n",
       "      <td>0</td>\n",
       "      <td>0</td>\n",
       "      <td>0</td>\n",
       "    </tr>\n",
       "    <tr>\n",
       "      <th>15</th>\n",
       "      <td>17.47</td>\n",
       "      <td>90.8</td>\n",
       "      <td>0</td>\n",
       "      <td>0</td>\n",
       "      <td>0</td>\n",
       "    </tr>\n",
       "    <tr>\n",
       "      <th>16</th>\n",
       "      <td>16.58</td>\n",
       "      <td>98.9</td>\n",
       "      <td>0</td>\n",
       "      <td>1</td>\n",
       "      <td>0</td>\n",
       "    </tr>\n",
       "    <tr>\n",
       "      <th>17</th>\n",
       "      <td>15.71</td>\n",
       "      <td>102.0</td>\n",
       "      <td>48</td>\n",
       "      <td>1</td>\n",
       "      <td>0</td>\n",
       "    </tr>\n",
       "    <tr>\n",
       "      <th>18</th>\n",
       "      <td>15.55</td>\n",
       "      <td>112.7</td>\n",
       "      <td>79</td>\n",
       "      <td>0</td>\n",
       "      <td>0</td>\n",
       "    </tr>\n",
       "    <tr>\n",
       "      <th>19</th>\n",
       "      <td>15.92</td>\n",
       "      <td>117.1</td>\n",
       "      <td>0</td>\n",
       "      <td>0</td>\n",
       "      <td>0</td>\n",
       "    </tr>\n",
       "    <tr>\n",
       "      <th>20</th>\n",
       "      <td>15.79</td>\n",
       "      <td>117.1</td>\n",
       "      <td>0</td>\n",
       "      <td>1</td>\n",
       "      <td>0</td>\n",
       "    </tr>\n",
       "    <tr>\n",
       "      <th>21</th>\n",
       "      <td>15.39</td>\n",
       "      <td>114.9</td>\n",
       "      <td>0</td>\n",
       "      <td>1</td>\n",
       "      <td>0</td>\n",
       "    </tr>\n",
       "    <tr>\n",
       "      <th>22</th>\n",
       "      <td>14.86</td>\n",
       "      <td>105.6</td>\n",
       "      <td>0</td>\n",
       "      <td>0</td>\n",
       "      <td>0</td>\n",
       "    </tr>\n",
       "    <tr>\n",
       "      <th>23</th>\n",
       "      <td>14.07</td>\n",
       "      <td>102.4</td>\n",
       "      <td>0</td>\n",
       "      <td>1</td>\n",
       "      <td>0</td>\n",
       "    </tr>\n",
       "    <tr>\n",
       "      <th>24</th>\n",
       "      <td>11.41</td>\n",
       "      <td>74.6</td>\n",
       "      <td>0</td>\n",
       "      <td>0</td>\n",
       "      <td>0</td>\n",
       "    </tr>\n",
       "    <tr>\n",
       "      <th>25</th>\n",
       "      <td>10.63</td>\n",
       "      <td>67.9</td>\n",
       "      <td>0</td>\n",
       "      <td>0</td>\n",
       "      <td>0</td>\n",
       "    </tr>\n",
       "    <tr>\n",
       "      <th>26</th>\n",
       "      <td>9.88</td>\n",
       "      <td>51.4</td>\n",
       "      <td>0</td>\n",
       "      <td>1</td>\n",
       "      <td>0</td>\n",
       "    </tr>\n",
       "    <tr>\n",
       "      <th>27</th>\n",
       "      <td>9.23</td>\n",
       "      <td>21.7</td>\n",
       "      <td>0</td>\n",
       "      <td>1</td>\n",
       "      <td>0</td>\n",
       "    </tr>\n",
       "    <tr>\n",
       "      <th>28</th>\n",
       "      <td>8.77</td>\n",
       "      <td>9.9</td>\n",
       "      <td>0</td>\n",
       "      <td>0</td>\n",
       "      <td>0</td>\n",
       "    </tr>\n",
       "    <tr>\n",
       "      <th>29</th>\n",
       "      <td>8.49</td>\n",
       "      <td>2.4</td>\n",
       "      <td>0</td>\n",
       "      <td>0</td>\n",
       "      <td>0</td>\n",
       "    </tr>\n",
       "    <tr>\n",
       "      <th>30</th>\n",
       "      <td>8.21</td>\n",
       "      <td>1.9</td>\n",
       "      <td>0</td>\n",
       "      <td>1</td>\n",
       "      <td>0</td>\n",
       "    </tr>\n",
       "    <tr>\n",
       "      <th>31</th>\n",
       "      <td>8.21</td>\n",
       "      <td>5.6</td>\n",
       "      <td>0</td>\n",
       "      <td>1</td>\n",
       "      <td>0</td>\n",
       "    </tr>\n",
       "    <tr>\n",
       "      <th>32</th>\n",
       "      <td>8.29</td>\n",
       "      <td>29.1</td>\n",
       "      <td>0</td>\n",
       "      <td>0</td>\n",
       "      <td>0</td>\n",
       "    </tr>\n",
       "    <tr>\n",
       "      <th>33</th>\n",
       "      <td>8.30</td>\n",
       "      <td>79.3</td>\n",
       "      <td>0</td>\n",
       "      <td>0</td>\n",
       "      <td>0</td>\n",
       "    </tr>\n",
       "    <tr>\n",
       "      <th>34</th>\n",
       "      <td>8.39</td>\n",
       "      <td>104.6</td>\n",
       "      <td>0</td>\n",
       "      <td>1</td>\n",
       "      <td>0</td>\n",
       "    </tr>\n",
       "    <tr>\n",
       "      <th>35</th>\n",
       "      <td>8.25</td>\n",
       "      <td>123.8</td>\n",
       "      <td>0</td>\n",
       "      <td>1</td>\n",
       "      <td>0</td>\n",
       "    </tr>\n",
       "    <tr>\n",
       "      <th>36</th>\n",
       "      <td>7.50</td>\n",
       "      <td>155.8</td>\n",
       "      <td>0</td>\n",
       "      <td>0</td>\n",
       "      <td>0</td>\n",
       "    </tr>\n",
       "    <tr>\n",
       "      <th>37</th>\n",
       "      <td>6.12</td>\n",
       "      <td>214.7</td>\n",
       "      <td>0</td>\n",
       "      <td>0</td>\n",
       "      <td>0</td>\n",
       "    </tr>\n",
       "  </tbody>\n",
       "</table>\n",
       "</div>"
      ],
      "text/plain": [
       "    vehicle_speed  steering  throttle  left_signal  right_signal\n",
       "0           31.44       3.0         0            0             0\n",
       "1           30.73       3.5         0            1             0\n",
       "2           29.45       3.6         0            1             0\n",
       "3           28.09       3.6         0            0             0\n",
       "4           27.07       3.5         0            0             0\n",
       "5           26.25       3.6         0            1             0\n",
       "6           25.35       4.0         0            0             0\n",
       "7           24.51       4.7         0            0             0\n",
       "8           23.58       6.5         0            1             0\n",
       "9           22.69      12.6         0            1             0\n",
       "10          21.89      23.8         0            0             0\n",
       "11          21.20      34.4         0            0             0\n",
       "12          20.25      45.8         0            1             0\n",
       "13          19.34      69.8         0            1             0\n",
       "14          18.33      87.6         0            0             0\n",
       "15          17.47      90.8         0            0             0\n",
       "16          16.58      98.9         0            1             0\n",
       "17          15.71     102.0        48            1             0\n",
       "18          15.55     112.7        79            0             0\n",
       "19          15.92     117.1         0            0             0\n",
       "20          15.79     117.1         0            1             0\n",
       "21          15.39     114.9         0            1             0\n",
       "22          14.86     105.6         0            0             0\n",
       "23          14.07     102.4         0            1             0\n",
       "24          11.41      74.6         0            0             0\n",
       "25          10.63      67.9         0            0             0\n",
       "26           9.88      51.4         0            1             0\n",
       "27           9.23      21.7         0            1             0\n",
       "28           8.77       9.9         0            0             0\n",
       "29           8.49       2.4         0            0             0\n",
       "30           8.21       1.9         0            1             0\n",
       "31           8.21       5.6         0            1             0\n",
       "32           8.29      29.1         0            0             0\n",
       "33           8.30      79.3         0            0             0\n",
       "34           8.39     104.6         0            1             0\n",
       "35           8.25     123.8         0            1             0\n",
       "36           7.50     155.8         0            0             0\n",
       "37           6.12     214.7         0            0             0"
      ]
     },
     "execution_count": 10,
     "metadata": {},
     "output_type": "execute_result"
    }
   ],
   "source": [
    "df_scene2 = df_scene.copy()\n",
    "fill_signal(df_scene2,'right_signal')\n",
    "df_scene2"
   ]
  },
  {
   "cell_type": "markdown",
   "metadata": {},
   "source": [
    "On créer maintenant une nouvelle colonne à notre dataframe qui contient les valeurs du clignotant 0(rien), 1(clignotant gauche), 2(clignotant droit)."
   ]
  },
  {
   "cell_type": "code",
   "execution_count": 11,
   "metadata": {},
   "outputs": [],
   "source": [
    "#Ajoute une nouvelle colonne où les valeurs sont: 0(rien), 1(clignotant gauche), 2(clignotant droit)\n",
    "#Plus pratique que \"fill_signal\" car on aura une seul colonne Y pour l'apprentissage\n",
    "def add_signal_column_v2(df):\n",
    "    df = fill_signal(df,'left_signal')\n",
    "    df = fill_signal(df,'right_signal')\n",
    "    i = 0\n",
    "    tab = []\n",
    "    while i  < len(df):\n",
    "        if df[\"right_signal\"][i] == 1:\n",
    "            tab += [2]\n",
    "        elif df[\"left_signal\"][i] == 1:\n",
    "            tab += [1]\n",
    "        else:\n",
    "            tab += [0]\n",
    "        i += 1\n",
    "    df[\"signal\"] = tab\n",
    "    return df\n"
   ]
  },
  {
   "cell_type": "markdown",
   "metadata": {},
   "source": [
    "On récupère les scènes qui n'ont pas de données dans CAN Bus et qui seront à exclure."
   ]
  },
  {
   "cell_type": "code",
   "execution_count": 12,
   "metadata": {},
   "outputs": [
    {
     "name": "stdout",
     "output_type": "stream",
     "text": [
      "['scene-0161', 'scene-0162', 'scene-0163', 'scene-0164', 'scene-0165', 'scene-0166', 'scene-0167', 'scene-0168', 'scene-0170', 'scene-0171', 'scene-0172', 'scene-0173', 'scene-0174', 'scene-0175', 'scene-0176', 'scene-0309', 'scene-0310', 'scene-0311', 'scene-0312', 'scene-0313', 'scene-0314']\n",
      "False\n"
     ]
    }
   ],
   "source": [
    "blackint = nusc_can.can_blacklist\n",
    "blacklist = [ \"scene-0\"+ str(i) for i in blackint]\n",
    "print(blacklist)\n",
    "print( \"%s\" in all_scene)"
   ]
  },
  {
   "cell_type": "markdown",
   "metadata": {},
   "source": [
    "On parcours maintenant l'ensemble des scènes et on récupère leur dataframe avec la nouvelle colonne ajoutée"
   ]
  },
  {
   "cell_type": "code",
   "execution_count": 13,
   "metadata": {
    "scrolled": true
   },
   "outputs": [
    {
     "name": "stdout",
     "output_type": "stream",
     "text": [
      "850\n",
      "    vehicle_speed  steering  throttle  left_signal  right_signal  signal\n",
      "0           14.74     191.9        55            0             0       0\n",
      "1           14.63     206.4       125            0             0       0\n",
      "2           15.19     206.3       158            1             0       1\n",
      "3           16.10     192.3       182            1             0       1\n",
      "4           17.24     120.1       202            0             0       0\n",
      "..            ...       ...       ...          ...           ...     ...\n",
      "35          39.21       2.1         0            0             1       2\n",
      "36          36.06       3.1         0            0             1       2\n",
      "37          32.50       2.4         0            0             1       2\n",
      "38          29.00       1.3         0            0             1       2\n",
      "39          25.50      -5.3         0            0             1       2\n",
      "\n",
      "[33191 rows x 6 columns]\n",
      "       vehicle_speed      steering      throttle   left_signal  right_signal  \\\n",
      "count   33191.000000  33191.000000  33191.000000  33191.000000  33191.000000   \n",
      "mean       18.042895     -2.211738     82.284565      0.133319      0.159561   \n",
      "std        12.766575     60.744759    101.810758      0.339925      0.366204   \n",
      "min         0.000000   -486.900000      0.000000      0.000000      0.000000   \n",
      "25%         6.810000     -6.000000      0.000000      0.000000      0.000000   \n",
      "50%        19.070000      0.500000     27.000000      0.000000      0.000000   \n",
      "75%        27.410000      5.900000    151.000000      0.000000      0.000000   \n",
      "max        65.390000    498.800000    511.000000      1.000000      1.000000   \n",
      "\n",
      "             signal  \n",
      "count  33191.000000  \n",
      "mean       0.443313  \n",
      "std        0.752281  \n",
      "min        0.000000  \n",
      "25%        0.000000  \n",
      "50%        0.000000  \n",
      "75%        1.000000  \n",
      "max        2.000000  \n"
     ]
    }
   ],
   "source": [
    "tab = []\n",
    "for s in all_scene:\n",
    "    if s not in blacklist and s not in [\"scene-0419\",\"scene-0420\",\"scene-0040\",\"scene-0037\",\"scene-0136\"\n",
    "                                       ,\"scene-0137\"] :\n",
    "        dic_scene = nusc_can.get_messages(s,'vehicle_monitor')\n",
    "        features = [\"vehicle_speed\",\"steering\",\"throttle\",\"left_signal\",\"right_signal\"]\n",
    "        df_scene = pd.DataFrame.from_dict(dic_scene)[features]\n",
    "        \n",
    "        add_signal_column_v2(df_scene)\n",
    "        tab += [df_scene]\n",
    "        \n",
    "df_total = pd.concat(tab)\n",
    "print(len(all_scene))\n",
    "print(df_total)\n",
    "print(df_total.describe())\n",
    "df_total.to_csv(\"./data/cligno_2407bis2.csv\")"
   ]
  },
  {
   "cell_type": "markdown",
   "metadata": {},
   "source": [
    "On peut regarde la corrélation entre les attributs pour déjà voir si cela peut correspondre\n",
    "Note: en chargeant la version mini les résultats ne seront pas les mêmes car il y a beaucoup moins de données."
   ]
  },
  {
   "cell_type": "code",
   "execution_count": 14,
   "metadata": {
    "scrolled": true
   },
   "outputs": [
    {
     "data": {
      "text/html": [
       "<div>\n",
       "<style scoped>\n",
       "    .dataframe tbody tr th:only-of-type {\n",
       "        vertical-align: middle;\n",
       "    }\n",
       "\n",
       "    .dataframe tbody tr th {\n",
       "        vertical-align: top;\n",
       "    }\n",
       "\n",
       "    .dataframe thead th {\n",
       "        text-align: right;\n",
       "    }\n",
       "</style>\n",
       "<table border=\"1\" class=\"dataframe\">\n",
       "  <thead>\n",
       "    <tr style=\"text-align: right;\">\n",
       "      <th></th>\n",
       "      <th>vehicle_speed</th>\n",
       "      <th>steering</th>\n",
       "      <th>throttle</th>\n",
       "      <th>left_signal</th>\n",
       "      <th>right_signal</th>\n",
       "      <th>signal</th>\n",
       "    </tr>\n",
       "  </thead>\n",
       "  <tbody>\n",
       "    <tr>\n",
       "      <th>vehicle_speed</th>\n",
       "      <td>1.000000</td>\n",
       "      <td>0.049568</td>\n",
       "      <td>0.290188</td>\n",
       "      <td>-0.175444</td>\n",
       "      <td>-0.262767</td>\n",
       "      <td>-0.321138</td>\n",
       "    </tr>\n",
       "    <tr>\n",
       "      <th>steering</th>\n",
       "      <td>0.049568</td>\n",
       "      <td>1.000000</td>\n",
       "      <td>0.017404</td>\n",
       "      <td>0.302719</td>\n",
       "      <td>-0.281441</td>\n",
       "      <td>-0.138224</td>\n",
       "    </tr>\n",
       "    <tr>\n",
       "      <th>throttle</th>\n",
       "      <td>0.290188</td>\n",
       "      <td>0.017404</td>\n",
       "      <td>1.000000</td>\n",
       "      <td>-0.099256</td>\n",
       "      <td>-0.124541</td>\n",
       "      <td>-0.157511</td>\n",
       "    </tr>\n",
       "    <tr>\n",
       "      <th>left_signal</th>\n",
       "      <td>-0.175444</td>\n",
       "      <td>0.302719</td>\n",
       "      <td>-0.099256</td>\n",
       "      <td>1.000000</td>\n",
       "      <td>-0.097556</td>\n",
       "      <td>0.325939</td>\n",
       "    </tr>\n",
       "    <tr>\n",
       "      <th>right_signal</th>\n",
       "      <td>-0.262767</td>\n",
       "      <td>-0.281441</td>\n",
       "      <td>-0.124541</td>\n",
       "      <td>-0.097556</td>\n",
       "      <td>1.000000</td>\n",
       "      <td>0.901652</td>\n",
       "    </tr>\n",
       "    <tr>\n",
       "      <th>signal</th>\n",
       "      <td>-0.321138</td>\n",
       "      <td>-0.138224</td>\n",
       "      <td>-0.157511</td>\n",
       "      <td>0.325939</td>\n",
       "      <td>0.901652</td>\n",
       "      <td>1.000000</td>\n",
       "    </tr>\n",
       "  </tbody>\n",
       "</table>\n",
       "</div>"
      ],
      "text/plain": [
       "               vehicle_speed  steering  throttle  left_signal  right_signal  \\\n",
       "vehicle_speed       1.000000  0.049568  0.290188    -0.175444     -0.262767   \n",
       "steering            0.049568  1.000000  0.017404     0.302719     -0.281441   \n",
       "throttle            0.290188  0.017404  1.000000    -0.099256     -0.124541   \n",
       "left_signal        -0.175444  0.302719 -0.099256     1.000000     -0.097556   \n",
       "right_signal       -0.262767 -0.281441 -0.124541    -0.097556      1.000000   \n",
       "signal             -0.321138 -0.138224 -0.157511     0.325939      0.901652   \n",
       "\n",
       "                 signal  \n",
       "vehicle_speed -0.321138  \n",
       "steering      -0.138224  \n",
       "throttle      -0.157511  \n",
       "left_signal    0.325939  \n",
       "right_signal   0.901652  \n",
       "signal         1.000000  "
      ]
     },
     "execution_count": 14,
     "metadata": {},
     "output_type": "execute_result"
    }
   ],
   "source": [
    "df_total.corr()"
   ]
  },
  {
   "cell_type": "markdown",
   "metadata": {},
   "source": [
    "## 2/ Apprentissage"
   ]
  },
  {
   "cell_type": "markdown",
   "metadata": {},
   "source": [
    "Passons maintenant à la dernière étape, l'apprentissage. On commence d'abord par importer les librairies dont on aura besoin, puis on sépare le jeu de données en 2, un jeu d'apprentissage (80%) et un jeu de test (20%)."
   ]
  },
  {
   "cell_type": "code",
   "execution_count": 15,
   "metadata": {},
   "outputs": [],
   "source": [
    "from sklearn.model_selection import train_test_split\n",
    "from sklearn import svm, neighbors\n",
    "from sklearn.ensemble import RandomForestClassifier\n",
    "import random"
   ]
  },
  {
   "cell_type": "code",
   "execution_count": 16,
   "metadata": {},
   "outputs": [],
   "source": [
    "features = [\"vehicle_speed\",\"steering\",\"throttle\"]\n",
    "X = df_total[features]\n",
    "y = df_total[\"signal\"]\n",
    "X_train, X_test, y_train, y_test = train_test_split(X,y, test_size = 0.2, random_state = 1)"
   ]
  },
  {
   "cell_type": "markdown",
   "metadata": {},
   "source": [
    "On va faire de l'apprentissage supervisé par classification avec deux modèles (k plus proches voisins et Random forest )."
   ]
  },
  {
   "cell_type": "markdown",
   "metadata": {},
   "source": [
    "### 2/1/ K plus proches voisins et Random forest sur une seule variable signal a 3 valeurs"
   ]
  },
  {
   "cell_type": "code",
   "execution_count": 21,
   "metadata": {},
   "outputs": [
    {
     "name": "stdout",
     "output_type": "stream",
     "text": [
      "0.7752673595420997\n"
     ]
    },
    {
     "data": {
      "text/plain": [
       "0.780840488025305"
      ]
     },
     "execution_count": 21,
     "metadata": {},
     "output_type": "execute_result"
    }
   ],
   "source": [
    "model = neighbors.KNeighborsClassifier()\n",
    "model.fit(X_train,y_train)\n",
    "print(model.score(X_test,y_test))\n",
    "\n",
    "model2 = RandomForestClassifier(n_estimators=100,random_state = 42)\n",
    "model2.fit(X_train,y_train)\n",
    "model2.score(X_test,y_test)"
   ]
  },
  {
   "cell_type": "markdown",
   "metadata": {},
   "source": [
    "On obtient un score d'à peu près 0.8. C'est un score moyen mais c'est plutôt étonnant car je pensais avoir un score très faible car ces informations d'après moi ne suffisent pas pour prédire quand mettre un clignotant.\n",
    "\n",
    "On peut se poser alors comme question si le score reflète-t-il la vérité? Peut-être que dans la majorité de scènes dans le jeu de test le clignotant n'est pas utilisé et donc le score peut-être boosté? Vérifions ça. "
   ]
  },
  {
   "cell_type": "markdown",
   "metadata": {},
   "source": [
    "### 2/2 Vérification du modèle"
   ]
  },
  {
   "cell_type": "markdown",
   "metadata": {},
   "source": [
    "Matrice de confusion:"
   ]
  },
  {
   "cell_type": "code",
   "execution_count": 18,
   "metadata": {},
   "outputs": [
    {
     "name": "stdout",
     "output_type": "stream",
     "text": [
      "[[4370  176  207]\n",
      " [ 467  330   22]\n",
      " [ 572   48  447]]\n",
      "[[4359  163  231]\n",
      " [ 440  340   39]\n",
      " [ 541   41  485]]\n"
     ]
    }
   ],
   "source": [
    "from sklearn.metrics import confusion_matrix\n",
    "print(confusion_matrix(y_test,model.predict(X_test)))\n",
    "print(confusion_matrix(y_test,model2.predict(X_test)))"
   ]
  },
  {
   "cell_type": "markdown",
   "metadata": {},
   "source": [
    "Résultat de la matrice de confusion sur le jeu de test (170 scènes, 6625 échantillons) avec k voisins (gauche) et une forêt aléatoire (droite):\n",
    "\n",
    "[4370  176  207].....[4359  163  231]\n",
    "\n",
    "[ 467  330   22]........[ 440  340   39]\n",
    "\n",
    "[ 572   48  447]........[ 541   41  485]\n",
    "\n",
    "Les bonnes prédictions sont sur la diagonale, sinon c'est une fausse prédicition.\n",
    "On peut voir que ce n'est pas bon du tout, la majorité des cas (première ligne) correspond à aucun clignotant, fausse le score.\n",
    "On voit bien sur les deux lignes suivantes la majorité des prédicitons ne sont pas sur la diagonale, donc qu'il s'agit de mauvaises prédictions.\n",
    "\n",
    "J'obtiens des résultats quasi-identique en changeant l'attribution des valeurs dans la colonne signal (clignotant gauche = 2 au lieu de 1). "
   ]
  },
  {
   "cell_type": "markdown",
   "metadata": {},
   "source": [
    "## Ancienne version "
   ]
  },
  {
   "cell_type": "markdown",
   "metadata": {},
   "source": [
    "Version utilisé lors de la présentation le 22 Juin, elle comportait des erreurs, notamment sur le remplissage des colonnes, ce qui devait je pense fausser le score."
   ]
  },
  {
   "cell_type": "code",
   "execution_count": 22,
   "metadata": {},
   "outputs": [],
   "source": [
    "#Ajoute une nouvelle colonne où les valeurs sont: 0(rien), 1(clignotant gauche), 2(clignotant droit)\n",
    "#Plus pratique que \"fill_signal\" car on aura une seul colonne Y pour l'apprentissage\n",
    "def add_signal_column(df,signal):\n",
    "    i = 0\n",
    "    tab = []\n",
    "    while df[signal][i] != 1:\n",
    "        tab += [0]\n",
    "        i += 1\n",
    "    while i  < len(df) and sum(df[signal][i:i+4]) >= 1:\n",
    "        if signal == \"right_signal\":\n",
    "            tab += [2]\n",
    "        else:\n",
    "            tab += [1]\n",
    "        i += 1\n",
    "    while i < len(df):\n",
    "        tab += [0]\n",
    "        i += 1\n",
    "    df[\"signal\"] = tab\n",
    "    return df"
   ]
  },
  {
   "cell_type": "code",
   "execution_count": 23,
   "metadata": {},
   "outputs": [
    {
     "name": "stdout",
     "output_type": "stream",
     "text": [
      "850\n",
      "    vehicle_speed  steering  throttle  left_signal  right_signal  signal\n",
      "0           14.74     191.9        55            0             0       0\n",
      "1           14.63     206.4       125            0             0       0\n",
      "2           15.19     206.3       158            1             0       0\n",
      "3           16.10     192.3       182            1             0       0\n",
      "4           17.24     120.1       202            0             0       0\n",
      "..            ...       ...       ...          ...           ...     ...\n",
      "35          39.21       2.1         0            0             1       2\n",
      "36          36.06       3.1         0            0             0       2\n",
      "37          32.50       2.4         0            0             0       2\n",
      "38          29.00       1.3         0            0             1       2\n",
      "39          25.50      -5.3         0            0             1       2\n",
      "\n",
      "[33123 rows x 6 columns]\n",
      "       vehicle_speed      steering      throttle   left_signal  right_signal  \\\n",
      "count   33123.000000  33123.000000  33123.000000  33123.000000  33123.000000   \n",
      "mean       16.974581     -4.881046     90.875374      0.118015      0.155813   \n",
      "std        11.564381     80.972065    107.348022      0.322630      0.362684   \n",
      "min         0.000000   -464.300000      0.000000      0.000000      0.000000   \n",
      "25%         7.780000    -11.300000      0.000000      0.000000      0.000000   \n",
      "50%        17.290000      0.400000     43.000000      0.000000      0.000000   \n",
      "75%        25.410000      8.000000    167.000000      0.000000      0.000000   \n",
      "max        62.550000    498.800000    461.000000      1.000000      1.000000   \n",
      "\n",
      "             signal  \n",
      "count  33123.000000  \n",
      "mean       0.690276  \n",
      "std        0.870026  \n",
      "min        0.000000  \n",
      "25%        0.000000  \n",
      "50%        0.000000  \n",
      "75%        2.000000  \n",
      "max        2.000000  \n"
     ]
    }
   ],
   "source": [
    "tab = []\n",
    "for s in all_scene:\n",
    "    if s not in blacklist and s not in [\"scene-0419\",\"scene-0420\",\"scene-0040\",\"scene-0037\",\"scene-0136\"\n",
    "                                       ,\"scene-0137\"] :\n",
    "        dic_scene = nusc_can.get_messages(s,'vehicle_monitor')\n",
    "        features = [\"vehicle_speed\",\"steering\",\"throttle\",\"left_signal\",\"right_signal\"]\n",
    "        df_scene = pd.DataFrame.from_dict(dic_scene)[features]\n",
    "        if df_scene[\"left_signal\"].any():\n",
    "            #df_scene = fill_signal(df_scene,\"left_signal\")\n",
    "            new_df = add_signal_column(df_scene,\"left_signal\")\n",
    "            #print(new_df)\n",
    "        if df_scene[\"right_signal\"].any():\n",
    "            #df_scene = fill_signal(df_scene,\"right_signal\")\n",
    "            new_df = add_signal_column(df_scene,\"right_signal\")\n",
    "            #print(\"right\",new_df)\n",
    "        tab += [new_df]\n",
    "    \n",
    "df_total = pd.concat(tab)\n",
    "print(len(all_scene))\n",
    "print(df_total)\n",
    "print(df_total.describe())\n",
    "df_total.to_csv(\"./data/cligno_2307bis.csv\")"
   ]
  },
  {
   "cell_type": "code",
   "execution_count": 24,
   "metadata": {},
   "outputs": [],
   "source": [
    "from sklearn.model_selection import train_test_split\n",
    "from sklearn import svm, neighbors\n",
    "from sklearn.ensemble import RandomForestClassifier\n",
    "import random"
   ]
  },
  {
   "cell_type": "code",
   "execution_count": 25,
   "metadata": {},
   "outputs": [],
   "source": [
    "features = [\"vehicle_speed\",\"steering\",\"throttle\"]\n",
    "X = df_total[features]\n",
    "y = df_total[\"signal\"]\n",
    "X_train, X_test, y_train, y_test = train_test_split(X,y, test_size = 0.2, random_state = 1)"
   ]
  },
  {
   "cell_type": "markdown",
   "metadata": {},
   "source": [
    "### 2/1/ K plus proches voisins et Random forest sur une seule variable signal a 3 valeurs"
   ]
  },
  {
   "cell_type": "code",
   "execution_count": 26,
   "metadata": {},
   "outputs": [
    {
     "name": "stdout",
     "output_type": "stream",
     "text": [
      "0.7969811320754717\n"
     ]
    },
    {
     "data": {
      "text/plain": [
       "0.872754716981132"
      ]
     },
     "execution_count": 26,
     "metadata": {},
     "output_type": "execute_result"
    }
   ],
   "source": [
    "model = neighbors.KNeighborsClassifier()\n",
    "model.fit(X_train,y_train)\n",
    "print(model.score(X_test,y_test))\n",
    "\n",
    "model2 = RandomForestClassifier(n_estimators=100,random_state = 42)\n",
    "model2.fit(X_train,y_train)\n",
    "model2.score(X_test,y_test)"
   ]
  },
  {
   "cell_type": "markdown",
   "metadata": {},
   "source": [
    "On obtient un score d'à peu près 0.8, voir 0.87 avec la forêt aléatoire.\n",
    "\n",
    "Mais le score reflète-t-il la vérité? Peut-être que dans la majorité de scènes dans le jeu de test le clignotant n'est pas utilisé et donc le score peut-être boosté? Vérifions ça. "
   ]
  },
  {
   "cell_type": "code",
   "execution_count": 27,
   "metadata": {},
   "outputs": [
    {
     "name": "stdout",
     "output_type": "stream",
     "text": [
      "[[3402  210  338]\n",
      " [ 288  549   63]\n",
      " [ 385   61 1329]]\n",
      "[[3626  145  179]\n",
      " [ 169  688   43]\n",
      " [ 257   50 1468]]\n"
     ]
    }
   ],
   "source": [
    "from sklearn.metrics import confusion_matrix\n",
    "print(confusion_matrix(y_test,model.predict(X_test)))\n",
    "print(confusion_matrix(y_test,model2.predict(X_test)))"
   ]
  },
  {
   "cell_type": "markdown",
   "metadata": {},
   "source": [
    "Résultat de la matrice de confusion sur le jeu de test (170 scènes, 6625 échantillons) avec k voisins (gauche) et une forêt aléatoire (droite):\n",
    "- [3402,  210,  338]-----[3626  145  179]\n",
    "- [ 288,  549,   63]--------[169  688   43] \n",
    "- [ 385,   61, 1329]------[ 257   50 1468]\n",
    "\n",
    "K voisins:\n",
    "Résultats assez mitigés le taux de d'erreur pour le clignotant gauche est de 0.5 et du clignotant droit 0.25.\n",
    "\n",
    "Forêt aléatoire:\n",
    "Résultats plutôt bon, taux d'erreur pour le clignotant gauche est de 0.30 et du clignotant droit 0.15.\n",
    "\n",
    "J'obtiens des résultats quasi-identique en changeant l'attribution des valeurs dans la colonne signal (clignotant gauche = 2 au lieu de 1). \n",
    "On peut par ailleurs noter qu'il y a un double des cas où le clignotant droite est activé par rapport au clignotant gauche, cela peut être l'une des raisons qui explique la différence de score."
   ]
  },
  {
   "cell_type": "markdown",
   "metadata": {},
   "source": [
    "# Conclusion"
   ]
  },
  {
   "cell_type": "markdown",
   "metadata": {},
   "source": [
    "J'ai présenté dans ce notebook quelques outils afin de manipuler nuScenes ainsi qu'une démonstration en essayant de prédire quand mettre le clignotant.\n",
    "Cela conclut la première partie des notebooks sur nuScenes."
   ]
  }
 ],
 "metadata": {
  "kernelspec": {
   "display_name": "Python 3",
   "language": "python",
   "name": "python3"
  },
  "language_info": {
   "codemirror_mode": {
    "name": "ipython",
    "version": 3
   },
   "file_extension": ".py",
   "mimetype": "text/x-python",
   "name": "python",
   "nbconvert_exporter": "python",
   "pygments_lexer": "ipython3",
   "version": "3.8.3"
  }
 },
 "nbformat": 4,
 "nbformat_minor": 4
}
