{
 "cells": [
  {
   "cell_type": "markdown",
   "metadata": {},
   "source": [
    "# Manipulation des données de nuscenes avec panda"
   ]
  },
  {
   "cell_type": "code",
   "execution_count": 90,
   "metadata": {
    "scrolled": true
   },
   "outputs": [],
   "source": [
    "%matplotlib inline\n",
    "\n",
    "from nuscenes.nuscenes import NuScenes\n",
    "from nuscenes.can_bus.can_bus_api import NuScenesCanBus\n",
    "\n",
    "import pandas as pd\n",
    "import numpy as np\n",
    "import matplotlib.pyplot as plt"
   ]
  },
  {
   "cell_type": "code",
   "execution_count": 91,
   "metadata": {},
   "outputs": [
    {
     "name": "stdout",
     "output_type": "stream",
     "text": [
      "======\n",
      "Loading NuScenes tables for version v1.0-trainval...\n",
      "23 category,\n",
      "8 attribute,\n",
      "4 visibility,\n",
      "64386 instance,\n",
      "12 sensor,\n",
      "10200 calibrated_sensor,\n",
      "2631083 ego_pose,\n",
      "68 log,\n",
      "850 scene,\n",
      "34149 sample,\n",
      "2631083 sample_data,\n",
      "1166187 sample_annotation,\n",
      "4 map,\n",
      "Done loading in 49.1 seconds.\n",
      "======\n",
      "Reverse indexing ...\n",
      "Done reverse indexing in 8.3 seconds.\n",
      "======\n"
     ]
    }
   ],
   "source": [
    "# data/sets/nuscenes\n",
    "# D:\\Utilisateurs\\Alexandre\\Repertoire_D\\nuscenes\\v1 0-trainval01\n",
    "\n",
    "#nusc = NuScenes(version='v1.0-mini', dataroot='../data/sets/nuscenes')\n",
    "nusc = NuScenes(version='v1.0-trainval', dataroot='D:/Utilisateurs/Alexandre/Repertoire_D/nuscenes/v1.0-trainval01')\n",
    "\n",
    "nusc_can = NuScenesCanBus(dataroot='../data/sets/nuscenes')\n",
    "\n"
   ]
  },
  {
   "cell_type": "code",
   "execution_count": 221,
   "metadata": {},
   "outputs": [],
   "source": [
    "#nusc.list_scenes()"
   ]
  },
  {
   "cell_type": "code",
   "execution_count": 222,
   "metadata": {},
   "outputs": [
    {
     "name": "stdout",
     "output_type": "stream",
     "text": [
      "    vehicle_speed  steering  throttle  left_signal  right_signal\n",
      "0           31.44       3.0         0            0             0\n",
      "1           30.73       3.5         0            1             0\n",
      "2           29.45       3.6         0            1             0\n",
      "3           28.09       3.6         0            0             0\n",
      "4           27.07       3.5         0            0             0\n",
      "5           26.25       3.6         0            1             0\n",
      "6           25.35       4.0         0            0             0\n",
      "7           24.51       4.7         0            0             0\n",
      "8           23.58       6.5         0            1             0\n",
      "9           22.69      12.6         0            1             0\n",
      "10          21.89      23.8         0            0             0\n",
      "11          21.20      34.4         0            0             0\n",
      "12          20.25      45.8         0            1             0\n",
      "13          19.34      69.8         0            1             0\n",
      "14          18.33      87.6         0            0             0\n",
      "15          17.47      90.8         0            0             0\n",
      "16          16.58      98.9         0            1             0\n",
      "17          15.71     102.0        48            1             0\n",
      "18          15.55     112.7        79            0             0\n",
      "19          15.92     117.1         0            0             0\n",
      "20          15.79     117.1         0            1             0\n",
      "21          15.39     114.9         0            1             0\n",
      "22          14.86     105.6         0            0             0\n",
      "23          14.07     102.4         0            1             0\n",
      "24          11.41      74.6         0            0             0\n",
      "25          10.63      67.9         0            0             0\n",
      "26           9.88      51.4         0            1             0\n",
      "27           9.23      21.7         0            1             0\n",
      "28           8.77       9.9         0            0             0\n",
      "29           8.49       2.4         0            0             0\n",
      "30           8.21       1.9         0            1             0\n",
      "31           8.21       5.6         0            1             0\n",
      "32           8.29      29.1         0            0             0\n",
      "33           8.30      79.3         0            0             0\n",
      "34           8.39     104.6         0            1             0\n",
      "35           8.25     123.8         0            1             0\n",
      "36           7.50     155.8         0            0             0\n",
      "37           6.12     214.7         0            0             0\n"
     ]
    }
   ],
   "source": [
    "scene_name = 'scene-0061'\n",
    "dic_scene = nusc_can.get_messages(scene_name,'vehicle_monitor')\n",
    "#print(test)\n",
    "features = [\"vehicle_speed\",\"steering\",\"throttle\",\"left_signal\",\"right_signal\"]\n",
    "df_scene = pd.DataFrame.from_dict(dic_scene)[features]\n",
    "print(df_scene)"
   ]
  },
  {
   "cell_type": "code",
   "execution_count": 4,
   "metadata": {},
   "outputs": [],
   "source": [
    "scene_name = 'scene-1100'\n",
    "my_scene_token = nusc.field2token('scene', 'name', scene_name)[0]\n",
    "# nusc.render_scene_channel(my_scene_token, 'CAM_FRONT')"
   ]
  },
  {
   "cell_type": "markdown",
   "metadata": {},
   "source": [
    "## Premier test: essayer d'apprendre quand mettre le clignotant \n",
    "On va faire un essai pour prendre en main le dataset, avec seulement la vitesse, l'accélération et l'inclinaison du volant. Je ne pense pas qu'il soit possible de prévoir quand mettre un clignotant, il manque certaines informations (trajectoire notamment)"
   ]
  },
  {
   "cell_type": "markdown",
   "metadata": {},
   "source": [
    "### 1/ Prétraitement des données"
   ]
  },
  {
   "cell_type": "code",
   "execution_count": 208,
   "metadata": {},
   "outputs": [],
   "source": [
    "# Pour utiliser seulement nusc_can \n",
    "# (evite de charger nusc scene qui est plus lourd et ne sert actuellement qu'à prendre la liste des scenes)\n",
    "# A faire \n",
    "def list_scene():\n",
    "    pass"
   ]
  },
  {
   "cell_type": "code",
   "execution_count": 209,
   "metadata": {},
   "outputs": [],
   "source": [
    "all_scene = [ s[\"name\"] for s in nusc.scene ]\n",
    "#print(all_scene)"
   ]
  },
  {
   "cell_type": "code",
   "execution_count": 210,
   "metadata": {},
   "outputs": [],
   "source": [
    "# Mets des 1 tout le temps pour le clignotant au lieu d'une alternance par défaut\n",
    "def fill_signal(df,signal):\n",
    "    i = 0\n",
    "    index = df.columns.get_loc(signal)\n",
    "    while df[signal][i] != 1:\n",
    "        i += 1\n",
    "    while i  < len(df) and sum(df[signal][i:i+4]) >= 1:\n",
    "        df.iat[i,index] = 1\n",
    "        i += 1\n",
    "    return df"
   ]
  },
  {
   "cell_type": "code",
   "execution_count": 211,
   "metadata": {},
   "outputs": [],
   "source": [
    "#Ajoute une nouvelle colonne où les valeurs sont: 0(rien), 1(clignotant gauche), 2(clignotant droit)\n",
    "#Plus pratique que \"fill_signal\" car on aura une seul colonne Y pour l'apprentissage\n",
    "def add_signal_column(df,signal):\n",
    "    i = 0\n",
    "    tab = []\n",
    "    while df[signal][i] != 1:\n",
    "        tab += [0]\n",
    "        i += 1\n",
    "    while i  < len(df) and sum(df[signal][i:i+4]) >= 1:\n",
    "        if signal == \"right_signal\":\n",
    "            tab += [2]\n",
    "        else:\n",
    "            tab += [1]\n",
    "        i += 1\n",
    "    while i < len(df):\n",
    "        tab += [0]\n",
    "        i += 1\n",
    "    df[\"signal\"] = tab\n",
    "    return df"
   ]
  },
  {
   "cell_type": "code",
   "execution_count": 212,
   "metadata": {},
   "outputs": [
    {
     "name": "stdout",
     "output_type": "stream",
     "text": [
      "['scene-0161', 'scene-0162', 'scene-0163', 'scene-0164', 'scene-0165', 'scene-0166', 'scene-0167', 'scene-0168', 'scene-0170', 'scene-0171', 'scene-0172', 'scene-0173', 'scene-0174', 'scene-0175', 'scene-0176', 'scene-0309', 'scene-0310', 'scene-0311', 'scene-0312', 'scene-0313', 'scene-0314']\n",
      "False\n"
     ]
    }
   ],
   "source": [
    "blackint = nusc_can.can_blacklist\n",
    "blacklist = [ \"scene-0\"+ str(i) for i in blackint]\n",
    "print(blacklist)\n",
    "print( \"%s\" in all_scene)"
   ]
  },
  {
   "cell_type": "code",
   "execution_count": 213,
   "metadata": {},
   "outputs": [
    {
     "name": "stdout",
     "output_type": "stream",
     "text": [
      "850\n",
      "    vehicle_speed  steering  throttle  left_signal  right_signal  signal\n",
      "0           14.74     191.9        55            0             0       0\n",
      "1           14.63     206.4       125            0             0       0\n",
      "2           15.19     206.3       158            1             0       0\n",
      "3           16.10     192.3       182            1             0       0\n",
      "4           17.24     120.1       202            0             0       0\n",
      "..            ...       ...       ...          ...           ...     ...\n",
      "35          39.21       2.1         0            0             1       2\n",
      "36          36.06       3.1         0            0             0       2\n",
      "37          32.50       2.4         0            0             0       2\n",
      "38          29.00       1.3         0            0             1       2\n",
      "39          25.50      -5.3         0            0             1       2\n",
      "\n",
      "[33123 rows x 6 columns]\n"
     ]
    }
   ],
   "source": [
    "tab = []\n",
    "for s in all_scene:\n",
    "    if s not in blacklist and s not in [\"scene-0419\",\"scene-0420\"] :\n",
    "        dic_scene = nusc_can.get_messages(s,'vehicle_monitor')\n",
    "        features = [\"vehicle_speed\",\"steering\",\"throttle\",\"left_signal\",\"right_signal\"]\n",
    "        df_scene = pd.DataFrame.from_dict(dic_scene)[features]\n",
    "        if df_scene[\"left_signal\"].any():\n",
    "            #df_scene = fill_signal(df_scene,\"left_signal\")\n",
    "            new_df = add_signal_column(df_scene,\"left_signal\")\n",
    "            #print(new_df)\n",
    "        if df_scene[\"right_signal\"].any():\n",
    "            #df_scene = fill_signal(df_scene,\"right_signal\")\n",
    "            new_df = add_signal_column(df_scene,\"right_signal\")\n",
    "            #print(new_df)\n",
    "        tab += [new_df]\n",
    "    \n",
    "df_total = pd.concat(tab)\n",
    "print(len(all_scene))\n",
    "print(df_total)"
   ]
  },
  {
   "cell_type": "code",
   "execution_count": 214,
   "metadata": {},
   "outputs": [
    {
     "data": {
      "text/html": [
       "<div>\n",
       "<style scoped>\n",
       "    .dataframe tbody tr th:only-of-type {\n",
       "        vertical-align: middle;\n",
       "    }\n",
       "\n",
       "    .dataframe tbody tr th {\n",
       "        vertical-align: top;\n",
       "    }\n",
       "\n",
       "    .dataframe thead th {\n",
       "        text-align: right;\n",
       "    }\n",
       "</style>\n",
       "<table border=\"1\" class=\"dataframe\">\n",
       "  <thead>\n",
       "    <tr style=\"text-align: right;\">\n",
       "      <th></th>\n",
       "      <th>vehicle_speed</th>\n",
       "      <th>steering</th>\n",
       "      <th>throttle</th>\n",
       "      <th>left_signal</th>\n",
       "      <th>right_signal</th>\n",
       "      <th>signal</th>\n",
       "    </tr>\n",
       "  </thead>\n",
       "  <tbody>\n",
       "    <tr>\n",
       "      <th>vehicle_speed</th>\n",
       "      <td>1.000000</td>\n",
       "      <td>0.036777</td>\n",
       "      <td>0.240233</td>\n",
       "      <td>-0.161973</td>\n",
       "      <td>-0.189532</td>\n",
       "      <td>-0.399030</td>\n",
       "    </tr>\n",
       "    <tr>\n",
       "      <th>steering</th>\n",
       "      <td>0.036777</td>\n",
       "      <td>1.000000</td>\n",
       "      <td>-0.016328</td>\n",
       "      <td>0.251038</td>\n",
       "      <td>-0.235810</td>\n",
       "      <td>-0.228922</td>\n",
       "    </tr>\n",
       "    <tr>\n",
       "      <th>throttle</th>\n",
       "      <td>0.240233</td>\n",
       "      <td>-0.016328</td>\n",
       "      <td>1.000000</td>\n",
       "      <td>-0.083612</td>\n",
       "      <td>-0.085723</td>\n",
       "      <td>-0.181831</td>\n",
       "    </tr>\n",
       "    <tr>\n",
       "      <th>left_signal</th>\n",
       "      <td>-0.161973</td>\n",
       "      <td>0.251038</td>\n",
       "      <td>-0.083612</td>\n",
       "      <td>1.000000</td>\n",
       "      <td>-0.097808</td>\n",
       "      <td>0.041057</td>\n",
       "    </tr>\n",
       "    <tr>\n",
       "      <th>right_signal</th>\n",
       "      <td>-0.189532</td>\n",
       "      <td>-0.235810</td>\n",
       "      <td>-0.085723</td>\n",
       "      <td>-0.097808</td>\n",
       "      <td>1.000000</td>\n",
       "      <td>0.598528</td>\n",
       "    </tr>\n",
       "    <tr>\n",
       "      <th>signal</th>\n",
       "      <td>-0.399030</td>\n",
       "      <td>-0.228922</td>\n",
       "      <td>-0.181831</td>\n",
       "      <td>0.041057</td>\n",
       "      <td>0.598528</td>\n",
       "      <td>1.000000</td>\n",
       "    </tr>\n",
       "  </tbody>\n",
       "</table>\n",
       "</div>"
      ],
      "text/plain": [
       "               vehicle_speed  steering  throttle  left_signal  right_signal  \\\n",
       "vehicle_speed       1.000000  0.036777  0.240233    -0.161973     -0.189532   \n",
       "steering            0.036777  1.000000 -0.016328     0.251038     -0.235810   \n",
       "throttle            0.240233 -0.016328  1.000000    -0.083612     -0.085723   \n",
       "left_signal        -0.161973  0.251038 -0.083612     1.000000     -0.097808   \n",
       "right_signal       -0.189532 -0.235810 -0.085723    -0.097808      1.000000   \n",
       "signal             -0.399030 -0.228922 -0.181831     0.041057      0.598528   \n",
       "\n",
       "                 signal  \n",
       "vehicle_speed -0.399030  \n",
       "steering      -0.228922  \n",
       "throttle      -0.181831  \n",
       "left_signal    0.041057  \n",
       "right_signal   0.598528  \n",
       "signal         1.000000  "
      ]
     },
     "execution_count": 214,
     "metadata": {},
     "output_type": "execute_result"
    }
   ],
   "source": [
    "df_total.corr()"
   ]
  },
  {
   "cell_type": "markdown",
   "metadata": {},
   "source": [
    "### 2/ Apprentissage"
   ]
  },
  {
   "cell_type": "code",
   "execution_count": 215,
   "metadata": {},
   "outputs": [],
   "source": [
    "from sklearn.model_selection import train_test_split\n",
    "from sklearn import svm, neighbors\n",
    "from sklearn.ensemble import RandomForestClassifier\n",
    "import random"
   ]
  },
  {
   "cell_type": "code",
   "execution_count": 216,
   "metadata": {},
   "outputs": [
    {
     "name": "stdout",
     "output_type": "stream",
     "text": [
      "1656.15\n"
     ]
    }
   ],
   "source": [
    "features = [\"vehicle_speed\",\"steering\",\"throttle\"]\n",
    "X = df_total[features]\n",
    "y = df_total[\"signal\"]\n",
    "print(len(X)/20)\n",
    "X_train, X_test, y_train, y_test = train_test_split(X,y, test_size = 0.2, random_state = 1)"
   ]
  },
  {
   "cell_type": "markdown",
   "metadata": {},
   "source": [
    "#### 2/1/ K plus proches voisins et SVM sur une seule variable signal a 3 valeurs"
   ]
  },
  {
   "cell_type": "code",
   "execution_count": 217,
   "metadata": {},
   "outputs": [
    {
     "name": "stdout",
     "output_type": "stream",
     "text": [
      "0.7969811320754717\n"
     ]
    },
    {
     "data": {
      "text/plain": [
       "0.872754716981132"
      ]
     },
     "execution_count": 217,
     "metadata": {},
     "output_type": "execute_result"
    }
   ],
   "source": [
    "model = neighbors.KNeighborsClassifier()\n",
    "model.fit(X_train,y_train)\n",
    "print(model.score(X_test,y_test))\n",
    "\n",
    "model2 = RandomForestClassifier(n_estimators=100,random_state = 42)\n",
    "model2.fit(X_train,y_train)\n",
    "model2.score(X_test,y_test)"
   ]
  },
  {
   "cell_type": "markdown",
   "metadata": {},
   "source": [
    "0.80 avec les 1000 scènes (can bus), c'est pas mal pour un modèle basique, on peut améliorer ça.\n",
    "Mais le score reflète-t-il la vérité? Peut-être que dans la majorité de scènes dans le jeu de test le clignotant n'est pas utilisé et donc le score peut-être boosté? Vérifions ça. "
   ]
  },
  {
   "cell_type": "markdown",
   "metadata": {},
   "source": [
    "#### 2/2 Vérification du modèle"
   ]
  },
  {
   "cell_type": "markdown",
   "metadata": {},
   "source": [
    "Matrice de confusion:"
   ]
  },
  {
   "cell_type": "code",
   "execution_count": 220,
   "metadata": {},
   "outputs": [
    {
     "name": "stdout",
     "output_type": "stream",
     "text": [
      "[[3402  210  338]\n",
      " [ 288  549   63]\n",
      " [ 385   61 1329]]\n",
      "[[3626  145  179]\n",
      " [ 169  688   43]\n",
      " [ 257   50 1468]]\n"
     ]
    }
   ],
   "source": [
    "from sklearn.metrics import confusion_matrix\n",
    "print(confusion_matrix(y_test,model.predict(X_test)))\n",
    "print(confusion_matrix(y_test,model2.predict(X_test)))\n"
   ]
  },
  {
   "cell_type": "markdown",
   "metadata": {},
   "source": [
    "Résultat de la matrice de confusion sur le jeu de test (170 scènes, 6625 échantillons) avec k voisins (gauche) et une forêt aléatoire (droite):\n",
    "- [3402,  210,  338]-----[3626  145  179]\n",
    "- [ 288,  549,   63]--------[169  688   43] \n",
    "- [ 385,   61, 1329]------[ 257   50 1468]\n",
    "\n",
    "K voisins:\n",
    "Résultats assez mitigés le taux de d'erreur pour le clignotant gauche est de 0.5 et du clignotant droit 0.25.\n",
    "\n",
    "Forêt aléatoire:\n",
    "Résultats plutôt bon, taux d'erreur pour le clignotant gauche est de 0.30 et du clignotant droit 0.15.\n",
    "\n",
    "J'obtiens des résultats quasi-identique en changeant l'attribution des valeurs dans la colonne signal (clignotant gauche = 2 au lieu de 1). \n",
    "On peut par ailleurs noter qu'il y a un double des cas où le clignotant droite est activé par rapport au clignotant gauche, cela peut être l'une des raisons qui explique la différence de score."
   ]
  },
  {
   "cell_type": "markdown",
   "metadata": {},
   "source": [
    "## Deuxième test: anticiper la vitesse avec un véhicule en face"
   ]
  },
  {
   "cell_type": "markdown",
   "metadata": {},
   "source": [
    "Principe de base (idée): \n",
    "    - le système de pilotage envoie les postions gps à suivre, la vitesse et l'angle recommandés à l'algorithme de gestion\n",
    "    - l'algorithme de gestion en fonction de la situation va envoyer sur un modèle pour donner une nouvelle valeur de la vitesse et de l'angle par rapport à l'environnement\n",
    "    - plusieurs modèles, mais en premier un basique : s'il y a personne en face on change rien, sinon calcul de la nouvelle vitesse par rapport au véhicule devant."
   ]
  },
  {
   "cell_type": "markdown",
   "metadata": {},
   "source": [
    "Pour cela, il nous faut plusieurs données pour ce modèle:\n",
    "    - position, vitesse, orientation du véhicule égo (nous) et du véhicule en face\n",
    "    - à compléter?\n",
    "\n"
   ]
  },
  {
   "cell_type": "markdown",
   "metadata": {},
   "source": [
    "### 1/ Recherche de ces données:"
   ]
  },
  {
   "cell_type": "code",
   "execution_count": 14,
   "metadata": {},
   "outputs": [
    {
     "data": {
      "text/plain": [
       "{'token': 'cc8c0bf57f984915a77078b10eb33198',\n",
       " 'log_token': '7e25a2c8ea1f41c5b0da1e69ecfa71a2',\n",
       " 'nbr_samples': 39,\n",
       " 'first_sample_token': 'ca9a282c9e77460f8360f564131a8af5',\n",
       " 'last_sample_token': 'ed5fc18c31904f96a8f0dbb99ff069c0',\n",
       " 'name': 'scene-0061',\n",
       " 'description': 'Parked truck, construction, intersection, turn left, following a van'}"
      ]
     },
     "execution_count": 14,
     "metadata": {},
     "output_type": "execute_result"
    }
   ],
   "source": [
    "scene_test = nusc.scene[0]\n",
    "scene_test"
   ]
  },
  {
   "cell_type": "code",
   "execution_count": 15,
   "metadata": {},
   "outputs": [
    {
     "data": {
      "text/plain": [
       "{'token': '83d881a6b3d94ef3a3bc3b585cc514f8',\n",
       " 'sample_token': 'ca9a282c9e77460f8360f564131a8af5',\n",
       " 'instance_token': 'e91afa15647c4c4994f19aeb302c7179',\n",
       " 'visibility_token': '4',\n",
       " 'attribute_tokens': ['58aa28b1c2a54dc88e169808c07331e3'],\n",
       " 'translation': [409.989, 1164.099, 1.623],\n",
       " 'size': [2.877, 10.201, 3.595],\n",
       " 'rotation': [-0.5828819500503033, 0.0, 0.0, 0.812556848660791],\n",
       " 'prev': '',\n",
       " 'next': 'f3721bdfd7ee4fd2a4f94874286df471',\n",
       " 'num_lidar_pts': 495,\n",
       " 'num_radar_pts': 13,\n",
       " 'category_name': 'vehicle.truck'}"
      ]
     },
     "execution_count": 15,
     "metadata": {},
     "output_type": "execute_result"
    }
   ],
   "source": [
    "sample = nusc.get('sample',scene_test['first_sample_token'])\n",
    "ann = sample['anns'][18]\n",
    "ann_meta = nusc.get('sample_annotation', ann)\n",
    "ann_meta"
   ]
  },
  {
   "cell_type": "code",
   "execution_count": null,
   "metadata": {},
   "outputs": [],
   "source": []
  }
 ],
 "metadata": {
  "kernelspec": {
   "display_name": "Python 3",
   "language": "python",
   "name": "python3"
  },
  "language_info": {
   "codemirror_mode": {
    "name": "ipython",
    "version": 3
   },
   "file_extension": ".py",
   "mimetype": "text/x-python",
   "name": "python",
   "nbconvert_exporter": "python",
   "pygments_lexer": "ipython3",
   "version": "3.8.3"
  }
 },
 "nbformat": 4,
 "nbformat_minor": 4
}
