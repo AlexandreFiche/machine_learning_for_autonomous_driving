{
 "cells": [
  {
   "cell_type": "markdown",
   "metadata": {},
   "source": [
    "# Manipulation des données de nuscenes avec panda"
   ]
  },
  {
   "cell_type": "markdown",
   "metadata": {},
   "source": [
    "###  Nuscenes: https://github.com/nutonomy/nuscenes-devkit\n",
    "### https://www.nuscenes.org/"
   ]
  },
  {
   "cell_type": "markdown",
   "metadata": {},
   "source": [
    "# Introduction"
   ]
  },
  {
   "cell_type": "markdown",
   "metadata": {},
   "source": [
    "Notebook de présentation et de découverte du jeu de données NuScenes. NuScenes est un jeu de données qui sert au développement de véhicules autonomes. C'est une grande base de données (+400 go) qui contient:\n",
    " - Des informations intrèseques,informations sur le véhicule, comme la vitesse, l'angle du volant, la pression sur les pédales d'accélération et de frein, .... Ces informations sont accéssible en téléchargeant l'extension CAN Bus.\n",
    " - Des informations extrèsequs sur l'envrionnement autour du véhicule, détection de tout les objets présents autour (Voiture, camion, piéton, plot de chantier...) qui possèdent une box et une position comme représentation. Ces informations sont extraites à partir de caméra, radar et lidar présent autour du véhicule. Il s'agit d'informations réelles capturer pendant des sessions dans plusieurs villes.\n",
    " - Un ensemble de carte où se déplace tout ces objets, sur ces cartes on peut parcourir les routes connaitres leur type, connaitre la signalisation (stop, feu), ... Je ne me suis pas occupé de cette partie car elle est assez compliqué et ne m'interresse pas pour le stage."
   ]
  },
  {
   "cell_type": "markdown",
   "metadata": {},
   "source": [
    "Il y a deux versions pour NuScenes, la version normal (+400go) et il existe une version mini (4go) contenant 10 scènes. \n",
    "Il est possilble d'utiliser la version normal sans tout télécharger. Sur le site dans la partie \"Trainval\", on a un zip  metadata de 400 mo mais il suffit. Si par contre, on veut visualiser des scènes (caméra et/ou lidar) il faudra télécharger les zip de 30 go correspondants à 100 scènes chacun. J'en ai téléchargé 3 personnellement ce qui me donner un accès à 300 scènes.\n",
    "\n",
    "Attention si vous décidez de charger le jeu complet (qu'importe d'avoir téléchargé le jeu en entier), cela risque de mettre du temps sur une machine pas suffisament puissante (je mets 6/15 min c'est aléatoire sur mon pc portable pour charger), de plus je conseille d'avoir au moins 16 go pour pouvoir l'utiliser sans avoir trop de ralentissement.\n",
    "\n",
    "Mais si vous ne pouvez pas, ce n'est pas grave, car j'ai enregistré les données que j'utilise sous forme de csv pour ce que cela soit plus rapide."
   ]
  },
  {
   "cell_type": "markdown",
   "metadata": {},
   "source": [
    "Il y a de plus, une extension CAN Bus"
   ]
  },
  {
   "cell_type": "markdown",
   "metadata": {},
   "source": [
    "# Import librairies et chargement de NuScenes"
   ]
  },
  {
   "cell_type": "code",
   "execution_count": 3,
   "metadata": {
    "scrolled": true
   },
   "outputs": [],
   "source": [
    "%matplotlib inline\n",
    "\n",
    "from nuscenes.nuscenes import NuScenes\n",
    "from nuscenes.can_bus.can_bus_api import NuScenesCanBus\n",
    "import pandas as pd\n",
    "import numpy as np\n",
    "import matplotlib.pyplot as plt"
   ]
  },
  {
   "cell_type": "code",
   "execution_count": 4,
   "metadata": {},
   "outputs": [
    {
     "name": "stdout",
     "output_type": "stream",
     "text": [
      "======\n",
      "Loading NuScenes tables for version v1.0-mini...\n",
      "23 category,\n",
      "8 attribute,\n",
      "4 visibility,\n",
      "911 instance,\n",
      "12 sensor,\n",
      "120 calibrated_sensor,\n",
      "31206 ego_pose,\n",
      "8 log,\n",
      "10 scene,\n",
      "404 sample,\n",
      "31206 sample_data,\n",
      "18538 sample_annotation,\n",
      "4 map,\n",
      "Done loading in 0.6 seconds.\n",
      "======\n",
      "Reverse indexing ...\n",
      "Done reverse indexing in 0.1 seconds.\n",
      "======\n"
     ]
    }
   ],
   "source": [
    "# data/sets/nuscenes\n",
    "# D:\\Utilisateurs\\Alexandre\\Repertoire_D\\nuscenes\\v1 0-trainval01\n",
    "\n",
    "#nusc = NuScenes(version='v1.0-mini', dataroot='../data/sets/nuscenes')\n",
    "#nusc = NuScenes(version='v1.0-trainval', dataroot='D:/Utilisateurs/Alexandre/Repertoire_D/nuscenes/v1.0-trainval01')\n",
    "nusc = NuScenes(version='v1.0-mini', dataroot='G:/repertoire_g/data/sets/nuscenes')\n",
    "nusc_can = NuScenesCanBus(dataroot='G:/repertoire_g/data/sets/nuscenes')\n"
   ]
  },
  {
   "cell_type": "markdown",
   "metadata": {},
   "source": [
    "# Prise en main de l'extension CAN "
   ]
  },
  {
   "cell_type": "markdown",
   "metadata": {},
   "source": [
    "Tout d'abord, faisons  un rendu de la scène. `field2token` renvoie le token associé au nom de la scène"
   ]
  },
  {
   "cell_type": "code",
   "execution_count": 5,
   "metadata": {},
   "outputs": [],
   "source": [
    "scene_name = 'scene-0061'\n",
    "my_scene_token = nusc.field2token('scene', 'name', scene_name)[0]\n",
    "nusc.render_scene_channel(my_scene_token, 'CAM_FRONT')"
   ]
  },
  {
   "cell_type": "code",
   "execution_count": 6,
   "metadata": {},
   "outputs": [
    {
     "name": "stdout",
     "output_type": "stream",
     "text": [
      "scene-0061, Parked truck, construction, intersectio... [18-07-24 03:28:47]   19s, singapore-onenorth, #anns:4622\n",
      "scene-0103, Many peds right, wait for turning car, ... [18-08-01 19:26:43]   19s, boston-seaport, #anns:2046\n",
      "scene-0655, Parking lot, parked cars, jaywalker, be... [18-08-27 15:51:32]   20s, boston-seaport, #anns:2332\n",
      "scene-0553, Wait at intersection, bicycle, large tr... [18-08-28 20:48:16]   20s, boston-seaport, #anns:1950\n",
      "scene-0757, Arrive at busy intersection, bus, wait ... [18-08-30 19:25:08]   20s, boston-seaport, #anns:592\n",
      "scene-0796, Scooter, peds on sidewalk, bus, cars, t... [18-10-02 02:52:24]   20s, singapore-queensto, #anns:708\n",
      "scene-0916, Parking lot, bicycle rack, parked bicyc... [18-10-08 07:37:13]   20s, singapore-queensto, #anns:2387\n",
      "scene-1077, Night, big street, bus stop, high speed... [18-11-21 11:39:27]   20s, singapore-hollandv, #anns:890\n",
      "scene-1094, Night, after rain, many peds, PMD, ped ... [18-11-21 11:47:27]   19s, singapore-hollandv, #anns:1762\n",
      "scene-1100, Night, peds in sidewalk, peds cross cro... [18-11-21 11:49:47]   19s, singapore-hollandv, #anns:935\n"
     ]
    }
   ],
   "source": [
    "nusc.list_scenes()"
   ]
  },
  {
   "cell_type": "markdown",
   "metadata": {},
   "source": [
    "On prends la scène 61 et je récupère les informations suivantes (vitesse, angle du volant...) et je les mets dans un dataframe.\n",
    "`get_messages` renvoie une liste de dictionnaire contenant pour chaque enregistrement (toutes les demi-secondes de la scène) les informations du internes du véhicule."
   ]
  },
  {
   "cell_type": "code",
   "execution_count": 7,
   "metadata": {},
   "outputs": [
    {
     "data": {
      "text/plain": [
       "{'available_distance': 120,\n",
       " 'battery_level': 91,\n",
       " 'brake': 0,\n",
       " 'brake_switch': 1,\n",
       " 'gear_position': 7,\n",
       " 'left_signal': 0,\n",
       " 'rear_left_rpm': 275.2617,\n",
       " 'rear_right_rpm': 276.1791,\n",
       " 'right_signal': 0,\n",
       " 'steering': 3.0,\n",
       " 'steering_speed': 1.8118839761882555e-13,\n",
       " 'throttle': 0,\n",
       " 'utime': 1532402928127800,\n",
       " 'vehicle_speed': 31.44,\n",
       " 'yaw_rate': 0.6000000000000227}"
      ]
     },
     "execution_count": 7,
     "metadata": {},
     "output_type": "execute_result"
    }
   ],
   "source": [
    "scene_name = 'scene-0061'\n",
    "dic_scene = nusc_can.get_messages(scene_name,'vehicle_monitor')\n",
    "dic_scene[0]"
   ]
  },
  {
   "cell_type": "code",
   "execution_count": 8,
   "metadata": {},
   "outputs": [
    {
     "data": {
      "text/html": [
       "<div>\n",
       "<style scoped>\n",
       "    .dataframe tbody tr th:only-of-type {\n",
       "        vertical-align: middle;\n",
       "    }\n",
       "\n",
       "    .dataframe tbody tr th {\n",
       "        vertical-align: top;\n",
       "    }\n",
       "\n",
       "    .dataframe thead th {\n",
       "        text-align: right;\n",
       "    }\n",
       "</style>\n",
       "<table border=\"1\" class=\"dataframe\">\n",
       "  <thead>\n",
       "    <tr style=\"text-align: right;\">\n",
       "      <th></th>\n",
       "      <th>vehicle_speed</th>\n",
       "      <th>steering</th>\n",
       "      <th>throttle</th>\n",
       "      <th>left_signal</th>\n",
       "      <th>right_signal</th>\n",
       "    </tr>\n",
       "  </thead>\n",
       "  <tbody>\n",
       "    <tr>\n",
       "      <th>0</th>\n",
       "      <td>31.44</td>\n",
       "      <td>3.0</td>\n",
       "      <td>0</td>\n",
       "      <td>0</td>\n",
       "      <td>0</td>\n",
       "    </tr>\n",
       "    <tr>\n",
       "      <th>1</th>\n",
       "      <td>30.73</td>\n",
       "      <td>3.5</td>\n",
       "      <td>0</td>\n",
       "      <td>1</td>\n",
       "      <td>0</td>\n",
       "    </tr>\n",
       "    <tr>\n",
       "      <th>2</th>\n",
       "      <td>29.45</td>\n",
       "      <td>3.6</td>\n",
       "      <td>0</td>\n",
       "      <td>1</td>\n",
       "      <td>0</td>\n",
       "    </tr>\n",
       "    <tr>\n",
       "      <th>3</th>\n",
       "      <td>28.09</td>\n",
       "      <td>3.6</td>\n",
       "      <td>0</td>\n",
       "      <td>0</td>\n",
       "      <td>0</td>\n",
       "    </tr>\n",
       "    <tr>\n",
       "      <th>4</th>\n",
       "      <td>27.07</td>\n",
       "      <td>3.5</td>\n",
       "      <td>0</td>\n",
       "      <td>0</td>\n",
       "      <td>0</td>\n",
       "    </tr>\n",
       "    <tr>\n",
       "      <th>5</th>\n",
       "      <td>26.25</td>\n",
       "      <td>3.6</td>\n",
       "      <td>0</td>\n",
       "      <td>1</td>\n",
       "      <td>0</td>\n",
       "    </tr>\n",
       "    <tr>\n",
       "      <th>6</th>\n",
       "      <td>25.35</td>\n",
       "      <td>4.0</td>\n",
       "      <td>0</td>\n",
       "      <td>0</td>\n",
       "      <td>0</td>\n",
       "    </tr>\n",
       "    <tr>\n",
       "      <th>7</th>\n",
       "      <td>24.51</td>\n",
       "      <td>4.7</td>\n",
       "      <td>0</td>\n",
       "      <td>0</td>\n",
       "      <td>0</td>\n",
       "    </tr>\n",
       "    <tr>\n",
       "      <th>8</th>\n",
       "      <td>23.58</td>\n",
       "      <td>6.5</td>\n",
       "      <td>0</td>\n",
       "      <td>1</td>\n",
       "      <td>0</td>\n",
       "    </tr>\n",
       "    <tr>\n",
       "      <th>9</th>\n",
       "      <td>22.69</td>\n",
       "      <td>12.6</td>\n",
       "      <td>0</td>\n",
       "      <td>1</td>\n",
       "      <td>0</td>\n",
       "    </tr>\n",
       "    <tr>\n",
       "      <th>10</th>\n",
       "      <td>21.89</td>\n",
       "      <td>23.8</td>\n",
       "      <td>0</td>\n",
       "      <td>0</td>\n",
       "      <td>0</td>\n",
       "    </tr>\n",
       "    <tr>\n",
       "      <th>11</th>\n",
       "      <td>21.20</td>\n",
       "      <td>34.4</td>\n",
       "      <td>0</td>\n",
       "      <td>0</td>\n",
       "      <td>0</td>\n",
       "    </tr>\n",
       "    <tr>\n",
       "      <th>12</th>\n",
       "      <td>20.25</td>\n",
       "      <td>45.8</td>\n",
       "      <td>0</td>\n",
       "      <td>1</td>\n",
       "      <td>0</td>\n",
       "    </tr>\n",
       "    <tr>\n",
       "      <th>13</th>\n",
       "      <td>19.34</td>\n",
       "      <td>69.8</td>\n",
       "      <td>0</td>\n",
       "      <td>1</td>\n",
       "      <td>0</td>\n",
       "    </tr>\n",
       "    <tr>\n",
       "      <th>14</th>\n",
       "      <td>18.33</td>\n",
       "      <td>87.6</td>\n",
       "      <td>0</td>\n",
       "      <td>0</td>\n",
       "      <td>0</td>\n",
       "    </tr>\n",
       "    <tr>\n",
       "      <th>15</th>\n",
       "      <td>17.47</td>\n",
       "      <td>90.8</td>\n",
       "      <td>0</td>\n",
       "      <td>0</td>\n",
       "      <td>0</td>\n",
       "    </tr>\n",
       "    <tr>\n",
       "      <th>16</th>\n",
       "      <td>16.58</td>\n",
       "      <td>98.9</td>\n",
       "      <td>0</td>\n",
       "      <td>1</td>\n",
       "      <td>0</td>\n",
       "    </tr>\n",
       "    <tr>\n",
       "      <th>17</th>\n",
       "      <td>15.71</td>\n",
       "      <td>102.0</td>\n",
       "      <td>48</td>\n",
       "      <td>1</td>\n",
       "      <td>0</td>\n",
       "    </tr>\n",
       "    <tr>\n",
       "      <th>18</th>\n",
       "      <td>15.55</td>\n",
       "      <td>112.7</td>\n",
       "      <td>79</td>\n",
       "      <td>0</td>\n",
       "      <td>0</td>\n",
       "    </tr>\n",
       "    <tr>\n",
       "      <th>19</th>\n",
       "      <td>15.92</td>\n",
       "      <td>117.1</td>\n",
       "      <td>0</td>\n",
       "      <td>0</td>\n",
       "      <td>0</td>\n",
       "    </tr>\n",
       "    <tr>\n",
       "      <th>20</th>\n",
       "      <td>15.79</td>\n",
       "      <td>117.1</td>\n",
       "      <td>0</td>\n",
       "      <td>1</td>\n",
       "      <td>0</td>\n",
       "    </tr>\n",
       "    <tr>\n",
       "      <th>21</th>\n",
       "      <td>15.39</td>\n",
       "      <td>114.9</td>\n",
       "      <td>0</td>\n",
       "      <td>1</td>\n",
       "      <td>0</td>\n",
       "    </tr>\n",
       "    <tr>\n",
       "      <th>22</th>\n",
       "      <td>14.86</td>\n",
       "      <td>105.6</td>\n",
       "      <td>0</td>\n",
       "      <td>0</td>\n",
       "      <td>0</td>\n",
       "    </tr>\n",
       "    <tr>\n",
       "      <th>23</th>\n",
       "      <td>14.07</td>\n",
       "      <td>102.4</td>\n",
       "      <td>0</td>\n",
       "      <td>1</td>\n",
       "      <td>0</td>\n",
       "    </tr>\n",
       "    <tr>\n",
       "      <th>24</th>\n",
       "      <td>11.41</td>\n",
       "      <td>74.6</td>\n",
       "      <td>0</td>\n",
       "      <td>0</td>\n",
       "      <td>0</td>\n",
       "    </tr>\n",
       "    <tr>\n",
       "      <th>25</th>\n",
       "      <td>10.63</td>\n",
       "      <td>67.9</td>\n",
       "      <td>0</td>\n",
       "      <td>0</td>\n",
       "      <td>0</td>\n",
       "    </tr>\n",
       "    <tr>\n",
       "      <th>26</th>\n",
       "      <td>9.88</td>\n",
       "      <td>51.4</td>\n",
       "      <td>0</td>\n",
       "      <td>1</td>\n",
       "      <td>0</td>\n",
       "    </tr>\n",
       "    <tr>\n",
       "      <th>27</th>\n",
       "      <td>9.23</td>\n",
       "      <td>21.7</td>\n",
       "      <td>0</td>\n",
       "      <td>1</td>\n",
       "      <td>0</td>\n",
       "    </tr>\n",
       "    <tr>\n",
       "      <th>28</th>\n",
       "      <td>8.77</td>\n",
       "      <td>9.9</td>\n",
       "      <td>0</td>\n",
       "      <td>0</td>\n",
       "      <td>0</td>\n",
       "    </tr>\n",
       "    <tr>\n",
       "      <th>29</th>\n",
       "      <td>8.49</td>\n",
       "      <td>2.4</td>\n",
       "      <td>0</td>\n",
       "      <td>0</td>\n",
       "      <td>0</td>\n",
       "    </tr>\n",
       "    <tr>\n",
       "      <th>30</th>\n",
       "      <td>8.21</td>\n",
       "      <td>1.9</td>\n",
       "      <td>0</td>\n",
       "      <td>1</td>\n",
       "      <td>0</td>\n",
       "    </tr>\n",
       "    <tr>\n",
       "      <th>31</th>\n",
       "      <td>8.21</td>\n",
       "      <td>5.6</td>\n",
       "      <td>0</td>\n",
       "      <td>1</td>\n",
       "      <td>0</td>\n",
       "    </tr>\n",
       "    <tr>\n",
       "      <th>32</th>\n",
       "      <td>8.29</td>\n",
       "      <td>29.1</td>\n",
       "      <td>0</td>\n",
       "      <td>0</td>\n",
       "      <td>0</td>\n",
       "    </tr>\n",
       "    <tr>\n",
       "      <th>33</th>\n",
       "      <td>8.30</td>\n",
       "      <td>79.3</td>\n",
       "      <td>0</td>\n",
       "      <td>0</td>\n",
       "      <td>0</td>\n",
       "    </tr>\n",
       "    <tr>\n",
       "      <th>34</th>\n",
       "      <td>8.39</td>\n",
       "      <td>104.6</td>\n",
       "      <td>0</td>\n",
       "      <td>1</td>\n",
       "      <td>0</td>\n",
       "    </tr>\n",
       "    <tr>\n",
       "      <th>35</th>\n",
       "      <td>8.25</td>\n",
       "      <td>123.8</td>\n",
       "      <td>0</td>\n",
       "      <td>1</td>\n",
       "      <td>0</td>\n",
       "    </tr>\n",
       "    <tr>\n",
       "      <th>36</th>\n",
       "      <td>7.50</td>\n",
       "      <td>155.8</td>\n",
       "      <td>0</td>\n",
       "      <td>0</td>\n",
       "      <td>0</td>\n",
       "    </tr>\n",
       "    <tr>\n",
       "      <th>37</th>\n",
       "      <td>6.12</td>\n",
       "      <td>214.7</td>\n",
       "      <td>0</td>\n",
       "      <td>0</td>\n",
       "      <td>0</td>\n",
       "    </tr>\n",
       "  </tbody>\n",
       "</table>\n",
       "</div>"
      ],
      "text/plain": [
       "    vehicle_speed  steering  throttle  left_signal  right_signal\n",
       "0           31.44       3.0         0            0             0\n",
       "1           30.73       3.5         0            1             0\n",
       "2           29.45       3.6         0            1             0\n",
       "3           28.09       3.6         0            0             0\n",
       "4           27.07       3.5         0            0             0\n",
       "5           26.25       3.6         0            1             0\n",
       "6           25.35       4.0         0            0             0\n",
       "7           24.51       4.7         0            0             0\n",
       "8           23.58       6.5         0            1             0\n",
       "9           22.69      12.6         0            1             0\n",
       "10          21.89      23.8         0            0             0\n",
       "11          21.20      34.4         0            0             0\n",
       "12          20.25      45.8         0            1             0\n",
       "13          19.34      69.8         0            1             0\n",
       "14          18.33      87.6         0            0             0\n",
       "15          17.47      90.8         0            0             0\n",
       "16          16.58      98.9         0            1             0\n",
       "17          15.71     102.0        48            1             0\n",
       "18          15.55     112.7        79            0             0\n",
       "19          15.92     117.1         0            0             0\n",
       "20          15.79     117.1         0            1             0\n",
       "21          15.39     114.9         0            1             0\n",
       "22          14.86     105.6         0            0             0\n",
       "23          14.07     102.4         0            1             0\n",
       "24          11.41      74.6         0            0             0\n",
       "25          10.63      67.9         0            0             0\n",
       "26           9.88      51.4         0            1             0\n",
       "27           9.23      21.7         0            1             0\n",
       "28           8.77       9.9         0            0             0\n",
       "29           8.49       2.4         0            0             0\n",
       "30           8.21       1.9         0            1             0\n",
       "31           8.21       5.6         0            1             0\n",
       "32           8.29      29.1         0            0             0\n",
       "33           8.30      79.3         0            0             0\n",
       "34           8.39     104.6         0            1             0\n",
       "35           8.25     123.8         0            1             0\n",
       "36           7.50     155.8         0            0             0\n",
       "37           6.12     214.7         0            0             0"
      ]
     },
     "execution_count": 8,
     "metadata": {},
     "output_type": "execute_result"
    }
   ],
   "source": [
    "features = [\"vehicle_speed\",\"steering\",\"throttle\",\"left_signal\",\"right_signal\"]\n",
    "df_scene = pd.DataFrame.from_dict(dic_scene)[features]\n",
    "df_scene"
   ]
  },
  {
   "cell_type": "markdown",
   "metadata": {},
   "source": [
    "# Essayer d'apprendre quand mettre le clignotant \n",
    "On va maitenant faire un essai pour prendre en main le dataset, avec seulement la vitesse, l'accélération et l'inclinaison du volant. Je ne pense pas qu'il soit possible de prévoir quand mettre un clignotant car il manque certaines informations (trajectoire notamment) mais cela permettra de manipuler NuScenes avant d'attaquer la suite."
   ]
  },
  {
   "cell_type": "markdown",
   "metadata": {},
   "source": [
    "## 1/ Prétraitement des données"
   ]
  },
  {
   "cell_type": "markdown",
   "metadata": {},
   "source": [
    "Pour récupérer la liste des scènes présentant dans jeu de donnnées on peut récupérer l'attribut scene de l'instance NuScene.Par contre, si on utilise le mini jeu de données, on aura que 10 scènes, j'ai donc crée une fonction pour lister toutes les scènes de 1 à 800."
   ]
  },
  {
   "cell_type": "code",
   "execution_count": 16,
   "metadata": {},
   "outputs": [
    {
     "name": "stdout",
     "output_type": "stream",
     "text": [
      "['scene-0061', 'scene-0103', 'scene-0553', 'scene-0655', 'scene-0757', 'scene-0796', 'scene-0916', 'scene-1077', 'scene-1094', 'scene-1100']\n"
     ]
    }
   ],
   "source": [
    "all_scene = [ s[\"name\"] for s in nusc.scene ]\n",
    "print(all_scene)"
   ]
  },
  {
   "cell_type": "code",
   "execution_count": 17,
   "metadata": {},
   "outputs": [],
   "source": [
    "# Pour utiliser seulement nusc_can \n",
    "# (evite de charger nusc scene qui est plus lourd et ne sert actuellement qu'à prendre la liste des scenes)\n",
    "def get_list_scene():\n",
    "    list_scene = []\n",
    "    for i in range(1,800):\n",
    "        if i < 10:\n",
    "            list_scene += [\"scene-000\"+str(i)]\n",
    "        elif i < 100:\n",
    "            list_scene += [\"scene-00\"+str(i)]\n",
    "        else:\n",
    "            list_scene += [\"scene-0\"+str(i)]\n",
    "    return list_scene\n",
    "all_scene = get_list_scene()"
   ]
  },
  {
   "cell_type": "markdown",
   "metadata": {},
   "source": []
  },
  {
   "cell_type": "code",
   "execution_count": 18,
   "metadata": {},
   "outputs": [],
   "source": [
    "# Mets des 1 tout le temps pour le clignotant au lieu d'une alternance par défaut\n",
    "def fill_signal(df,signal):\n",
    "    i = 0\n",
    "    index = df.columns.get_loc(signal)\n",
    "    while df[signal][i] != 1:\n",
    "        i += 1\n",
    "    while i  < len(df) and sum(df[signal][i:i+4]) >= 1:\n",
    "        df.iat[i,index] = 1\n",
    "        i += 1\n",
    "    return df"
   ]
  },
  {
   "cell_type": "markdown",
   "metadata": {},
   "source": [
    "On créer maintenant une nouvelle colonne à notre dataframe qui contient les valeurs du clignotant 0(rien), 1(clignotant gauche), 2(clignotant droit)."
   ]
  },
  {
   "cell_type": "code",
   "execution_count": 19,
   "metadata": {},
   "outputs": [],
   "source": [
    "#Ajoute une nouvelle colonne où les valeurs sont: 0(rien), 1(clignotant gauche), 2(clignotant droit)\n",
    "#Plus pratique que \"fill_signal\" car on aura une seul colonne Y pour l'apprentissage\n",
    "def add_signal_column(df,signal):\n",
    "    i = 0\n",
    "    tab = []\n",
    "    while df[signal][i] != 1:\n",
    "        tab += [0]\n",
    "        i += 1\n",
    "    while i  < len(df) and sum(df[signal][i:i+4]) >= 1:\n",
    "        if signal == \"right_signal\":\n",
    "            tab += [2]\n",
    "        else:\n",
    "            tab += [1]\n",
    "        i += 1\n",
    "    while i < len(df):\n",
    "        tab += [0]\n",
    "        i += 1\n",
    "    df[\"signal\"] = tab\n",
    "    return df"
   ]
  },
  {
   "cell_type": "markdown",
   "metadata": {},
   "source": [
    "On récupère les scènes qui n'ont pas de données dans CAN Bus et qui seront à exclure."
   ]
  },
  {
   "cell_type": "code",
   "execution_count": 20,
   "metadata": {},
   "outputs": [
    {
     "name": "stdout",
     "output_type": "stream",
     "text": [
      "['scene-0161', 'scene-0162', 'scene-0163', 'scene-0164', 'scene-0165', 'scene-0166', 'scene-0167', 'scene-0168', 'scene-0170', 'scene-0171', 'scene-0172', 'scene-0173', 'scene-0174', 'scene-0175', 'scene-0176', 'scene-0309', 'scene-0310', 'scene-0311', 'scene-0312', 'scene-0313', 'scene-0314']\n",
      "False\n"
     ]
    }
   ],
   "source": [
    "blackint = nusc_can.can_blacklist\n",
    "blacklist = [ \"scene-0\"+ str(i) for i in blackint]\n",
    "print(blacklist)\n",
    "print( \"%s\" in all_scene)"
   ]
  },
  {
   "cell_type": "code",
   "execution_count": 28,
   "metadata": {
    "scrolled": true
   },
   "outputs": [
    {
     "name": "stdout",
     "output_type": "stream",
     "text": [
      "799\n",
      "    vehicle_speed  steering  throttle  left_signal  right_signal  signal\n",
      "0           14.74     191.9        55            0             0       0\n",
      "1           14.63     206.4       125            0             0       0\n",
      "2           15.19     206.3       158            1             0       0\n",
      "3           16.10     192.3       182            1             0       0\n",
      "4           17.24     120.1       202            0             0       0\n",
      "..            ...       ...       ...          ...           ...     ...\n",
      "33          23.11      14.1        16            1             0       0\n",
      "34          22.95      15.5        19            0             0       0\n",
      "35          22.72      16.9        45            0             0       0\n",
      "36          22.91      16.7        97            1             0       0\n",
      "37          23.42      11.5       118            1             0       0\n",
      "\n",
      "[5349 rows x 6 columns]\n",
      "       vehicle_speed     steering     throttle  left_signal  right_signal  \\\n",
      "count    5349.000000  5349.000000  5349.000000  5349.000000   5349.000000   \n",
      "mean       21.150372     0.592896    97.554870     0.143391      0.111610   \n",
      "std        10.848645    76.162958   104.163455     0.350504      0.314915   \n",
      "min         0.000000  -438.600000     0.000000     0.000000      0.000000   \n",
      "25%        13.410000    -7.500000     0.000000     0.000000      0.000000   \n",
      "50%        21.230000    -0.100000    68.000000     0.000000      0.000000   \n",
      "75%        29.440000     7.800000   175.000000     0.000000      0.000000   \n",
      "max        48.900000   356.400000   425.000000     1.000000      1.000000   \n",
      "\n",
      "            signal  \n",
      "count  5349.000000  \n",
      "mean      0.532997  \n",
      "std       0.792333  \n",
      "min       0.000000  \n",
      "25%       0.000000  \n",
      "50%       0.000000  \n",
      "75%       1.000000  \n",
      "max       2.000000  \n"
     ]
    }
   ],
   "source": [
    "tab = []\n",
    "for s in all_scene[:140]:\n",
    "    if s not in blacklist and s not in [\"scene-0419\",\"scene-0420\",\"scene-0040\",\"scene-0037\",\"scene-0136\"\n",
    "                                       ,\"scene-0137\"] :\n",
    "        dic_scene = nusc_can.get_messages(s,'vehicle_monitor')\n",
    "        features = [\"vehicle_speed\",\"steering\",\"throttle\",\"left_signal\",\"right_signal\"]\n",
    "        df_scene = pd.DataFrame.from_dict(dic_scene)[features]\n",
    "        if df_scene[\"left_signal\"].any():\n",
    "            #df_scene = fill_signal(df_scene,\"left_signal\")\n",
    "            new_df = add_signal_column(df_scene,\"left_signal\")\n",
    "            #print(new_df)\n",
    "        if df_scene[\"right_signal\"].any():\n",
    "            #df_scene = fill_signal(df_scene,\"right_signal\")\n",
    "            new_df = add_signal_column(df_scene,\"right_signal\")\n",
    "            #print(\"right\",new_df)\n",
    "        tab += [new_df]\n",
    "    \n",
    "df_total = pd.concat(tab)\n",
    "print(len(all_scene))\n",
    "print(df_total)\n",
    "print(df_total.describe())\n",
    "df_total.to_csv(\"cligno_1707.csv\")"
   ]
  },
  {
   "cell_type": "code",
   "execution_count": 29,
   "metadata": {
    "scrolled": true
   },
   "outputs": [
    {
     "data": {
      "text/html": [
       "<div>\n",
       "<style scoped>\n",
       "    .dataframe tbody tr th:only-of-type {\n",
       "        vertical-align: middle;\n",
       "    }\n",
       "\n",
       "    .dataframe tbody tr th {\n",
       "        vertical-align: top;\n",
       "    }\n",
       "\n",
       "    .dataframe thead th {\n",
       "        text-align: right;\n",
       "    }\n",
       "</style>\n",
       "<table border=\"1\" class=\"dataframe\">\n",
       "  <thead>\n",
       "    <tr style=\"text-align: right;\">\n",
       "      <th></th>\n",
       "      <th>vehicle_speed</th>\n",
       "      <th>steering</th>\n",
       "      <th>throttle</th>\n",
       "      <th>left_signal</th>\n",
       "      <th>right_signal</th>\n",
       "      <th>signal</th>\n",
       "    </tr>\n",
       "  </thead>\n",
       "  <tbody>\n",
       "    <tr>\n",
       "      <th>vehicle_speed</th>\n",
       "      <td>1.000000</td>\n",
       "      <td>-0.009642</td>\n",
       "      <td>0.088292</td>\n",
       "      <td>-0.068969</td>\n",
       "      <td>-0.179062</td>\n",
       "      <td>-0.312831</td>\n",
       "    </tr>\n",
       "    <tr>\n",
       "      <th>steering</th>\n",
       "      <td>-0.009642</td>\n",
       "      <td>1.000000</td>\n",
       "      <td>0.003402</td>\n",
       "      <td>0.301272</td>\n",
       "      <td>-0.275218</td>\n",
       "      <td>-0.229618</td>\n",
       "    </tr>\n",
       "    <tr>\n",
       "      <th>throttle</th>\n",
       "      <td>0.088292</td>\n",
       "      <td>0.003402</td>\n",
       "      <td>1.000000</td>\n",
       "      <td>-0.087750</td>\n",
       "      <td>-0.056218</td>\n",
       "      <td>-0.133889</td>\n",
       "    </tr>\n",
       "    <tr>\n",
       "      <th>left_signal</th>\n",
       "      <td>-0.068969</td>\n",
       "      <td>0.301272</td>\n",
       "      <td>-0.087750</td>\n",
       "      <td>1.000000</td>\n",
       "      <td>-0.143323</td>\n",
       "      <td>0.027734</td>\n",
       "    </tr>\n",
       "    <tr>\n",
       "      <th>right_signal</th>\n",
       "      <td>-0.179062</td>\n",
       "      <td>-0.275218</td>\n",
       "      <td>-0.056218</td>\n",
       "      <td>-0.143323</td>\n",
       "      <td>1.000000</td>\n",
       "      <td>0.615849</td>\n",
       "    </tr>\n",
       "    <tr>\n",
       "      <th>signal</th>\n",
       "      <td>-0.312831</td>\n",
       "      <td>-0.229618</td>\n",
       "      <td>-0.133889</td>\n",
       "      <td>0.027734</td>\n",
       "      <td>0.615849</td>\n",
       "      <td>1.000000</td>\n",
       "    </tr>\n",
       "  </tbody>\n",
       "</table>\n",
       "</div>"
      ],
      "text/plain": [
       "               vehicle_speed  steering  throttle  left_signal  right_signal  \\\n",
       "vehicle_speed       1.000000 -0.009642  0.088292    -0.068969     -0.179062   \n",
       "steering           -0.009642  1.000000  0.003402     0.301272     -0.275218   \n",
       "throttle            0.088292  0.003402  1.000000    -0.087750     -0.056218   \n",
       "left_signal        -0.068969  0.301272 -0.087750     1.000000     -0.143323   \n",
       "right_signal       -0.179062 -0.275218 -0.056218    -0.143323      1.000000   \n",
       "signal             -0.312831 -0.229618 -0.133889     0.027734      0.615849   \n",
       "\n",
       "                 signal  \n",
       "vehicle_speed -0.312831  \n",
       "steering      -0.229618  \n",
       "throttle      -0.133889  \n",
       "left_signal    0.027734  \n",
       "right_signal   0.615849  \n",
       "signal         1.000000  "
      ]
     },
     "execution_count": 29,
     "metadata": {},
     "output_type": "execute_result"
    }
   ],
   "source": [
    "df_total.corr()"
   ]
  },
  {
   "cell_type": "markdown",
   "metadata": {},
   "source": [
    "## 2/ Apprentissage"
   ]
  },
  {
   "cell_type": "code",
   "execution_count": 30,
   "metadata": {},
   "outputs": [],
   "source": [
    "from sklearn.model_selection import train_test_split\n",
    "from sklearn import svm, neighbors\n",
    "from sklearn.ensemble import RandomForestClassifier\n",
    "import random"
   ]
  },
  {
   "cell_type": "code",
   "execution_count": 32,
   "metadata": {},
   "outputs": [
    {
     "name": "stdout",
     "output_type": "stream",
     "text": [
      "267.45\n"
     ]
    }
   ],
   "source": [
    "features = [\"vehicle_speed\",\"steering\",\"throttle\"]\n",
    "X = df_total[features]\n",
    "y = df_total[\"signal\"]\n",
    "print(len(X)/20)\n",
    "X_train, X_test, y_train, y_test = train_test_split(X,y, test_size = 0.2, random_state = 1)"
   ]
  },
  {
   "cell_type": "markdown",
   "metadata": {},
   "source": [
    "### 2/1/ K plus proches voisins et SVM sur une seule variable signal a 3 valeurs"
   ]
  },
  {
   "cell_type": "code",
   "execution_count": 33,
   "metadata": {},
   "outputs": [
    {
     "name": "stdout",
     "output_type": "stream",
     "text": [
      "0.7859813084112149\n"
     ]
    },
    {
     "data": {
      "text/plain": [
       "0.8588785046728972"
      ]
     },
     "execution_count": 33,
     "metadata": {},
     "output_type": "execute_result"
    }
   ],
   "source": [
    "model = neighbors.KNeighborsClassifier(3)\n",
    "model.fit(X_train,y_train)\n",
    "print(model.score(X_test,y_test))\n",
    "\n",
    "model2 = RandomForestClassifier(n_estimators=100,random_state = 42)\n",
    "model2.fit(X_train,y_train)\n",
    "model2.score(X_test,y_test)"
   ]
  },
  {
   "cell_type": "markdown",
   "metadata": {},
   "source": [
    "0.80 avec les 1000 scènes (can bus), c'est pas mal pour un modèle basique, on peut améliorer ça.\n",
    "0.87 avec une forêt aléatoire, c'est encore mieux.\n",
    "Mais le score reflète-t-il la vérité? Peut-être que dans la majorité de scènes dans le jeu de test le clignotant n'est pas utilisé et donc le score peut-être boosté? Vérifions ça. "
   ]
  },
  {
   "cell_type": "markdown",
   "metadata": {},
   "source": [
    "### 2/2 Vérification du modèle"
   ]
  },
  {
   "cell_type": "markdown",
   "metadata": {},
   "source": [
    "Matrice de confusion:"
   ]
  },
  {
   "cell_type": "code",
   "execution_count": 34,
   "metadata": {},
   "outputs": [
    {
     "name": "stdout",
     "output_type": "stream",
     "text": [
      "[[610  40  33]\n",
      " [ 74  86  12]\n",
      " [ 62   8 145]]\n",
      "[[641  24  18]\n",
      " [ 50 118   4]\n",
      " [ 48   7 160]]\n"
     ]
    }
   ],
   "source": [
    "from sklearn.metrics import confusion_matrix\n",
    "print(confusion_matrix(y_test,model.predict(X_test)))\n",
    "print(confusion_matrix(y_test,model2.predict(X_test)))\n"
   ]
  },
  {
   "cell_type": "markdown",
   "metadata": {},
   "source": [
    "Résultat de la matrice de confusion sur le jeu de test (170 scènes, 6625 échantillons) avec k voisins (gauche) et une forêt aléatoire (droite):\n",
    "- [3402,  210,  338]-----[3626  145  179]\n",
    "- [ 288,  549,   63]--------[169  688   43] \n",
    "- [ 385,   61, 1329]------[ 257   50 1468]\n",
    "\n",
    "K voisins:\n",
    "Résultats assez mitigés le taux de d'erreur pour le clignotant gauche est de 0.5 et du clignotant droit 0.25.\n",
    "\n",
    "Forêt aléatoire:\n",
    "Résultats plutôt bon, taux d'erreur pour le clignotant gauche est de 0.30 et du clignotant droit 0.15.\n",
    "\n",
    "J'obtiens des résultats quasi-identique en changeant l'attribution des valeurs dans la colonne signal (clignotant gauche = 2 au lieu de 1). \n",
    "On peut par ailleurs noter qu'il y a un double des cas où le clignotant droite est activé par rapport au clignotant gauche, cela peut être l'une des raisons qui explique la différence de score."
   ]
  },
  {
   "cell_type": "code",
   "execution_count": null,
   "metadata": {},
   "outputs": [],
   "source": []
  }
 ],
 "metadata": {
  "kernelspec": {
   "display_name": "Python 3",
   "language": "python",
   "name": "python3"
  },
  "language_info": {
   "codemirror_mode": {
    "name": "ipython",
    "version": 3
   },
   "file_extension": ".py",
   "mimetype": "text/x-python",
   "name": "python",
   "nbconvert_exporter": "python",
   "pygments_lexer": "ipython3",
   "version": "3.8.3"
  }
 },
 "nbformat": 4,
 "nbformat_minor": 4
}
