{
 "cells": [
  {
   "cell_type": "code",
   "execution_count": 72,
   "metadata": {},
   "outputs": [
    {
     "data": {
      "text/plain": [
       "Unnamed: 0           int64\n",
       "scene               object\n",
       "timestamp            int64\n",
       "utime                int64\n",
       "inst_token          object\n",
       "ann_token           object\n",
       "ego_pos             object\n",
       "object_pos          object\n",
       "distance           float64\n",
       "steering           float64\n",
       "ego_speed          float64\n",
       "throttle             int64\n",
       "brake                int64\n",
       "future_throttle      int64\n",
       "future_brake         int64\n",
       "futur_speed        float64\n",
       "dtype: object"
      ]
     },
     "execution_count": 72,
     "metadata": {},
     "output_type": "execute_result"
    }
   ],
   "source": [
    "import pandas as pd\n",
    "\n",
    "near_df = pd.read_csv(\"./data/near_dataframe_full0707.csv\")\n",
    "near_df.dtypes"
   ]
  },
  {
   "cell_type": "code",
   "execution_count": 13,
   "metadata": {},
   "outputs": [
    {
     "name": "stdout",
     "output_type": "stream",
     "text": [
      "1010.029, 614.858, 0.0\n"
     ]
    }
   ],
   "source": [
    "p = near_df.iloc[0,:]['ego_pos']\n",
    "print(p[1:-1])"
   ]
  },
  {
   "cell_type": "code",
   "execution_count": 14,
   "metadata": {},
   "outputs": [
    {
     "data": {
      "text/plain": [
       "[1010.029, 614.858, 0.0]"
      ]
     },
     "execution_count": 14,
     "metadata": {},
     "output_type": "execute_result"
    }
   ],
   "source": [
    "[float(s) for s in p[1:-1].split(',')]\n"
   ]
  },
  {
   "cell_type": "code",
   "execution_count": 74,
   "metadata": {},
   "outputs": [],
   "source": [
    "# lors l'import d'un fichier csv en df \n",
    "def object_to_list_dataframe(df):\n",
    "    e_pos = df['ego_pos'].copy()\n",
    "    o_pos = df['object_pos'].copy()\n",
    "\n",
    "    i = 0\n",
    "    taille = df.shape[0]\n",
    "    for i in range(taille):\n",
    "        e_pos.iloc[i] = [float(s) for s in e_pos.iloc[i][1:-1].split(',')]\n",
    "        o_pos.iloc[i] = [float(s) for s in o_pos.iloc[i][1:-1].split(',')]\n",
    "    df['ego_pos'] = e_pos\n",
    "    df['object_pos'] = o_pos\n",
    "object_to_list_dataframe(near_df)"
   ]
  },
  {
   "cell_type": "code",
   "execution_count": 62,
   "metadata": {},
   "outputs": [
    {
     "data": {
      "text/plain": [
       "[1010.029, 614.858, 0.0]"
      ]
     },
     "execution_count": 62,
     "metadata": {},
     "output_type": "execute_result"
    }
   ],
   "source": [
    "pos.iloc[0]"
   ]
  },
  {
   "cell_type": "code",
   "execution_count": 64,
   "metadata": {},
   "outputs": [],
   "source": [
    "near_df['ego_pos'] = pos"
   ]
  },
  {
   "cell_type": "code",
   "execution_count": 75,
   "metadata": {},
   "outputs": [
    {
     "data": {
      "text/plain": [
       "[1010.029, 614.858, 0.0]"
      ]
     },
     "execution_count": 75,
     "metadata": {},
     "output_type": "execute_result"
    }
   ],
   "source": [
    "near_df.loc[0,'ego_pos']"
   ]
  },
  {
   "cell_type": "code",
   "execution_count": null,
   "metadata": {},
   "outputs": [],
   "source": []
  }
 ],
 "metadata": {
  "kernelspec": {
   "display_name": "Python 3",
   "language": "python",
   "name": "python3"
  },
  "language_info": {
   "codemirror_mode": {
    "name": "ipython",
    "version": 3
   },
   "file_extension": ".py",
   "mimetype": "text/x-python",
   "name": "python",
   "nbconvert_exporter": "python",
   "pygments_lexer": "ipython3",
   "version": "3.8.3"
  }
 },
 "nbformat": 4,
 "nbformat_minor": 4
}
